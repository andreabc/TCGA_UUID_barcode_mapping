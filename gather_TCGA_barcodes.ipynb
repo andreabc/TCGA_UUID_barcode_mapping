{
 "cells": [
  {
   "cell_type": "markdown",
   "metadata": {},
   "source": [
    "## Creates map of sample UUIDs and barcodes\n",
    "- adapted from: https://seandavi.github.io/post/2017/12/genomicdatacommons-example-uuid-to-tcga-and-target-barcode-translation/\n",
    "- other resources: https://bioconductor.org/packages/3.7/bioc/manuals/GenomicDataCommons/man/GenomicDataCommons.pdf"
   ]
  },
  {
   "cell_type": "code",
   "execution_count": 10,
   "metadata": {
    "collapsed": false
   },
   "outputs": [],
   "source": [
    "library(GenomicDataCommons)\n",
    "library(magrittr)"
   ]
  },
  {
   "cell_type": "code",
   "execution_count": 357,
   "metadata": {
    "collapsed": false
   },
   "outputs": [
    {
     "ename": "ERROR",
     "evalue": "Error in parse(text = x, srcfile = src): <text>:25:7: unexpected string constant\n27:     type of experiment (e.g. BAM) where barcode can tell you if it is tumor/normal sample\n28:     '\n          ^\n",
     "output_type": "error",
     "traceback": [
      "Error in parse(text = x, srcfile = src): <text>:25:7: unexpected string constant\n27:     type of experiment (e.g. BAM) where barcode can tell you if it is tumor/normal sample\n28:     '\n          ^\nTraceback:\n"
     ]
    }
   ],
   "source": [
    "TCGAtranslateID = function(file_ids, legacy = FALSE) {\n",
    "    info = files(legacy = legacy) %>%\n",
    "        filter( ~ file_id %in% file_ids) %>%\n",
    "        select(c('cases.submitter_id', 'file_name', 'data_format', 'cases.samples.submitter_id', 'type')) %>%\n",
    "        results_all()\n",
    "#     print(info)\n",
    "    \n",
    "    ### to view all possible fields, uncomment the following block\n",
    "#     info2 = files(legacy = legacy) %>%\n",
    "#         filter( ~ file_id %in% file_ids) %>%\n",
    "#         select(available_fields('files')) #%>%\n",
    "#     print(info2)\n",
    "    \n",
    "    file_id  = info$file_id\n",
    "    file_name = info$file_name\n",
    "    data_format = info$data_format\n",
    "    type = info$type\n",
    "    \n",
    "    ### gets patient barcode\n",
    "    barcode_list <- (lapply(info$cases, function(a) { a[[2]][[1]][[1]] }))\n",
    "    barcode_lengths <- lapply(barcode_list, length)\n",
    "    barcode_mask <- unlist(lapply(barcode_lengths, function(a) {a > 1}))\n",
    "    barcode_list[barcode_mask] <- NA\n",
    "    \n",
    "    '''\n",
    "    gets sample barcodes - if has more than 1 barcode (e.g. VCF files) then it is not the \n",
    "    type of experiment (e.g. BAM) where barcode can tell you if it is tumor/normal sample\n",
    "    '''\n",
    "    sample_barcode_list <- (lapply(info$cases, function(a) {a[[1]][[1]][[1]] }))\n",
    "    sample_barcode_lengths <- lapply(sample_barcode_list, length)\n",
    "    sample_barcode_mask <- unlist(lapply(sample_barcode_lengths, function(a) {a > 1}))\n",
    "    sample_barcode_list[sample_barcode_mask] <- NA\n",
    "    \n",
    "    \n",
    "#     print('----------')\n",
    "#     print(paste('fild_id: ', file_id))\n",
    "#     print(paste('file_name: ', file_name))\n",
    "#     print(paste('data_format:', data_format))\n",
    "#     print(paste('barcode:', unlist(barcode_list)))\n",
    "#     print(paste('sample_barcode:', unlist(sample_barcode_list)))\n",
    "#     print('----------')\n",
    "    \n",
    "    \n",
    "    # And build the data.frame\n",
    "    return(data.frame(file_id = file_id,\n",
    "                      file_name = file_name, \n",
    "                      barcode = unlist(barcode_list, use.names=F), \n",
    "                      sample_barcode = unlist(sample_barcode_list, use.names=F),\n",
    "                      type = type,\n",
    "                      data_format = data_format))\n",
    "    }"
   ]
  },
  {
   "cell_type": "code",
   "execution_count": 354,
   "metadata": {
    "collapsed": false,
    "scrolled": false
   },
   "outputs": [
    {
     "data": {
      "text/html": [
       "<table>\n",
       "<thead><tr><th scope=col>file_id</th><th scope=col>file_name</th><th scope=col>barcode</th><th scope=col>sample_barcode</th><th scope=col>type</th><th scope=col>data_format</th></tr></thead>\n",
       "<tbody>\n",
       "\t<tr><td>88be35fc-3a1d-47ad-93b4-90d786341be7               </td><td>88be35fc-3a1d-47ad-93b4-90d786341be7.vep.vcf.gz    </td><td>TCGA-VM-A8CH                                       </td><td>NA                                                 </td><td>annotated_somatic_mutation                         </td><td>VCF                                                </td></tr>\n",
       "\t<tr><td>cb4a2233-e962-4e43-b1d1-e12e3c142476               </td><td>TCGA-OR-A5KS-01A-11D-A30A-10_Illumina_gdc_realn.bam</td><td>TCGA-OR-A5KS                                       </td><td>TCGA-OR-A5KS-01A                                   </td><td>aligned_reads                                      </td><td>BAM                                                </td></tr>\n",
       "</tbody>\n",
       "</table>\n"
      ],
      "text/latex": [
       "\\begin{tabular}{r|llllll}\n",
       " file\\_id & file\\_name & barcode & sample\\_barcode & type & data\\_format\\\\\n",
       "\\hline\n",
       "\t 88be35fc-3a1d-47ad-93b4-90d786341be7                & 88be35fc-3a1d-47ad-93b4-90d786341be7.vep.vcf.gz     & TCGA-VM-A8CH                                        & NA                                                  & annotated\\_somatic\\_mutation                      & VCF                                                \\\\\n",
       "\t cb4a2233-e962-4e43-b1d1-e12e3c142476                      & TCGA-OR-A5KS-01A-11D-A30A-10\\_Illumina\\_gdc\\_realn.bam & TCGA-OR-A5KS                                              & TCGA-OR-A5KS-01A                                          & aligned\\_reads                                           & BAM                                                      \\\\\n",
       "\\end{tabular}\n"
      ],
      "text/markdown": [
       "\n",
       "file_id | file_name | barcode | sample_barcode | type | data_format | \n",
       "|---|---|\n",
       "| 88be35fc-3a1d-47ad-93b4-90d786341be7                | 88be35fc-3a1d-47ad-93b4-90d786341be7.vep.vcf.gz     | TCGA-VM-A8CH                                        | NA                                                  | annotated_somatic_mutation                          | VCF                                                 | \n",
       "| cb4a2233-e962-4e43-b1d1-e12e3c142476                | TCGA-OR-A5KS-01A-11D-A30A-10_Illumina_gdc_realn.bam | TCGA-OR-A5KS                                        | TCGA-OR-A5KS-01A                                    | aligned_reads                                       | BAM                                                 | \n",
       "\n",
       "\n"
      ],
      "text/plain": [
       "  file_id                             \n",
       "1 88be35fc-3a1d-47ad-93b4-90d786341be7\n",
       "2 cb4a2233-e962-4e43-b1d1-e12e3c142476\n",
       "  file_name                                           barcode     \n",
       "1 88be35fc-3a1d-47ad-93b4-90d786341be7.vep.vcf.gz     TCGA-VM-A8CH\n",
       "2 TCGA-OR-A5KS-01A-11D-A30A-10_Illumina_gdc_realn.bam TCGA-OR-A5KS\n",
       "  sample_barcode   type                       data_format\n",
       "1 NA               annotated_somatic_mutation VCF        \n",
       "2 TCGA-OR-A5KS-01A aligned_reads              BAM        "
      ]
     },
     "metadata": {},
     "output_type": "display_data"
    }
   ],
   "source": [
    "TCGAtranslateID(c('88be35fc-3a1d-47ad-93b4-90d786341be7', 'cb4a2233-e962-4e43-b1d1-e12e3c142476'))\n",
    "# TCGAtranslateID('cb4a2233-e962-4e43-b1d1-e12e3c142476')\n",
    "# TCGAtranslateID('23fa7b4b-9d68-429b-aece-658b11124bb3')"
   ]
  },
  {
   "cell_type": "code",
   "execution_count": 309,
   "metadata": {
    "collapsed": false
   },
   "outputs": [],
   "source": [
    "biospecimen_df <- read.csv('~/GDC_barcodes/gdc_manifest.2018-05-14_biospecimen.txt', sep='\\t', row.names=NULL)\n",
    "clinical_df <- read.csv('~/GDC_barcodes/gdc_manifest.2018-05-14_clinical.txt', sep='\\t', row.names=NULL)\n",
    "snv_df <- read.csv('~/GDC_barcodes/gdc_manifest.2018-05-14_SNV.txt', sep='\\t', row.names=NULL)\n",
    "cnv_df <- read.csv('~/GDC_barcodes/gdc_manifest.2018-05-14_CNV.txt', sep='\\t', row.names=NULL)\n",
    "methyl_df <- read.csv('~/GDC_barcodes/gdc_manifest.2018-05-14_DNA_methylation.txt', sep='\\t', row.names=NULL)\n",
    "raw_df <- read.csv('~/GDC_barcodes/gdc_manifest.2018-05-14_raw_seq_data.txt', sep='\\t', row.names=NULL)\n",
    "transcriptome_df <- read.csv('~/GDC_barcodes/gdc_manifest.2018-05-14_transcriptome_profiling.txt', sep='\\t', row.names=NULL)"
   ]
  },
  {
   "cell_type": "code",
   "execution_count": 337,
   "metadata": {
    "collapsed": false
   },
   "outputs": [
    {
     "data": {
      "text/html": [
       "<table>\n",
       "<thead><tr><th scope=col>id</th><th scope=col>filename</th><th scope=col>md5</th><th scope=col>size</th><th scope=col>state</th></tr></thead>\n",
       "<tbody>\n",
       "\t<tr><td>88be35fc-3a1d-47ad-93b4-90d786341be7           </td><td>88be35fc-3a1d-47ad-93b4-90d786341be7.vep.vcf.gz</td><td>d07cf83738686ae3053fe72e95c409e1               </td><td> 165208                                        </td><td>live                                           </td></tr>\n",
       "\t<tr><td>ad3dd7e9-808a-4e4b-8d43-dc3de68c8c5c           </td><td>ad3dd7e9-808a-4e4b-8d43-dc3de68c8c5c.vep.vcf.gz</td><td>35f2de2ef0304fe3ee8bb1229eb4c3b8               </td><td>1069229                                        </td><td>live                                           </td></tr>\n",
       "\t<tr><td>0b1c205c-c227-43dd-a308-1a46b4f733df           </td><td>0b1c205c-c227-43dd-a308-1a46b4f733df.vep.vcf.gz</td><td>9af292e502a6419905c3f25763e36b9c               </td><td> 110968                                        </td><td>live                                           </td></tr>\n",
       "\t<tr><td>9c26fefe-1876-41d5-ae27-a665ed72643f           </td><td>9c26fefe-1876-41d5-ae27-a665ed72643f.vcf.gz    </td><td>fb3358bdea79e85074b9ab99845a790a               </td><td> 198682                                        </td><td>live                                           </td></tr>\n",
       "\t<tr><td>2c9c09c4-4849-4333-b1ad-53699fde6072           </td><td>2c9c09c4-4849-4333-b1ad-53699fde6072.vep.vcf.gz</td><td>5c289ee2e699d1b856c31735e1134a43               </td><td> 181009                                        </td><td>live                                           </td></tr>\n",
       "\t<tr><td>0f7e2d94-046d-437c-aa42-12b79e4bf80a           </td><td>0f7e2d94-046d-437c-aa42-12b79e4bf80a.vcf.gz    </td><td>8bbec722d7fbe95cbdfdb880de4a4b8d               </td><td> 295326                                        </td><td>live                                           </td></tr>\n",
       "</tbody>\n",
       "</table>\n"
      ],
      "text/latex": [
       "\\begin{tabular}{r|lllll}\n",
       " id & filename & md5 & size & state\\\\\n",
       "\\hline\n",
       "\t 88be35fc-3a1d-47ad-93b4-90d786341be7            & 88be35fc-3a1d-47ad-93b4-90d786341be7.vep.vcf.gz & d07cf83738686ae3053fe72e95c409e1                &  165208                                         & live                                           \\\\\n",
       "\t ad3dd7e9-808a-4e4b-8d43-dc3de68c8c5c            & ad3dd7e9-808a-4e4b-8d43-dc3de68c8c5c.vep.vcf.gz & 35f2de2ef0304fe3ee8bb1229eb4c3b8                & 1069229                                         & live                                           \\\\\n",
       "\t 0b1c205c-c227-43dd-a308-1a46b4f733df            & 0b1c205c-c227-43dd-a308-1a46b4f733df.vep.vcf.gz & 9af292e502a6419905c3f25763e36b9c                &  110968                                         & live                                           \\\\\n",
       "\t 9c26fefe-1876-41d5-ae27-a665ed72643f            & 9c26fefe-1876-41d5-ae27-a665ed72643f.vcf.gz     & fb3358bdea79e85074b9ab99845a790a                &  198682                                         & live                                           \\\\\n",
       "\t 2c9c09c4-4849-4333-b1ad-53699fde6072            & 2c9c09c4-4849-4333-b1ad-53699fde6072.vep.vcf.gz & 5c289ee2e699d1b856c31735e1134a43                &  181009                                         & live                                           \\\\\n",
       "\t 0f7e2d94-046d-437c-aa42-12b79e4bf80a            & 0f7e2d94-046d-437c-aa42-12b79e4bf80a.vcf.gz     & 8bbec722d7fbe95cbdfdb880de4a4b8d                &  295326                                         & live                                           \\\\\n",
       "\\end{tabular}\n"
      ],
      "text/markdown": [
       "\n",
       "id | filename | md5 | size | state | \n",
       "|---|---|---|---|---|---|\n",
       "| 88be35fc-3a1d-47ad-93b4-90d786341be7            | 88be35fc-3a1d-47ad-93b4-90d786341be7.vep.vcf.gz | d07cf83738686ae3053fe72e95c409e1                |  165208                                         | live                                            | \n",
       "| ad3dd7e9-808a-4e4b-8d43-dc3de68c8c5c            | ad3dd7e9-808a-4e4b-8d43-dc3de68c8c5c.vep.vcf.gz | 35f2de2ef0304fe3ee8bb1229eb4c3b8                | 1069229                                         | live                                            | \n",
       "| 0b1c205c-c227-43dd-a308-1a46b4f733df            | 0b1c205c-c227-43dd-a308-1a46b4f733df.vep.vcf.gz | 9af292e502a6419905c3f25763e36b9c                |  110968                                         | live                                            | \n",
       "| 9c26fefe-1876-41d5-ae27-a665ed72643f            | 9c26fefe-1876-41d5-ae27-a665ed72643f.vcf.gz     | fb3358bdea79e85074b9ab99845a790a                |  198682                                         | live                                            | \n",
       "| 2c9c09c4-4849-4333-b1ad-53699fde6072            | 2c9c09c4-4849-4333-b1ad-53699fde6072.vep.vcf.gz | 5c289ee2e699d1b856c31735e1134a43                |  181009                                         | live                                            | \n",
       "| 0f7e2d94-046d-437c-aa42-12b79e4bf80a            | 0f7e2d94-046d-437c-aa42-12b79e4bf80a.vcf.gz     | 8bbec722d7fbe95cbdfdb880de4a4b8d                |  295326                                         | live                                            | \n",
       "\n",
       "\n"
      ],
      "text/plain": [
       "  id                                  \n",
       "1 88be35fc-3a1d-47ad-93b4-90d786341be7\n",
       "2 ad3dd7e9-808a-4e4b-8d43-dc3de68c8c5c\n",
       "3 0b1c205c-c227-43dd-a308-1a46b4f733df\n",
       "4 9c26fefe-1876-41d5-ae27-a665ed72643f\n",
       "5 2c9c09c4-4849-4333-b1ad-53699fde6072\n",
       "6 0f7e2d94-046d-437c-aa42-12b79e4bf80a\n",
       "  filename                                       \n",
       "1 88be35fc-3a1d-47ad-93b4-90d786341be7.vep.vcf.gz\n",
       "2 ad3dd7e9-808a-4e4b-8d43-dc3de68c8c5c.vep.vcf.gz\n",
       "3 0b1c205c-c227-43dd-a308-1a46b4f733df.vep.vcf.gz\n",
       "4 9c26fefe-1876-41d5-ae27-a665ed72643f.vcf.gz    \n",
       "5 2c9c09c4-4849-4333-b1ad-53699fde6072.vep.vcf.gz\n",
       "6 0f7e2d94-046d-437c-aa42-12b79e4bf80a.vcf.gz    \n",
       "  md5                              size    state\n",
       "1 d07cf83738686ae3053fe72e95c409e1  165208 live \n",
       "2 35f2de2ef0304fe3ee8bb1229eb4c3b8 1069229 live \n",
       "3 9af292e502a6419905c3f25763e36b9c  110968 live \n",
       "4 fb3358bdea79e85074b9ab99845a790a  198682 live \n",
       "5 5c289ee2e699d1b856c31735e1134a43  181009 live \n",
       "6 8bbec722d7fbe95cbdfdb880de4a4b8d  295326 live "
      ]
     },
     "metadata": {},
     "output_type": "display_data"
    }
   ],
   "source": [
    "# issues with biospecimen and clinical uuid - skip for now\n",
    "total_df <- rbind(snv_df, cnv_df, methyl_df, raw_df, transcriptome_df)\n",
    "head(total_df)"
   ]
  },
  {
   "cell_type": "code",
   "execution_count": null,
   "metadata": {
    "collapsed": true
   },
   "outputs": [],
   "source": []
  },
  {
   "cell_type": "code",
   "execution_count": 338,
   "metadata": {
    "collapsed": false
   },
   "outputs": [],
   "source": [
    "step = 10000\n",
    "indices <- seq(1, nrow(total_df), by=step)"
   ]
  },
  {
   "cell_type": "code",
   "execution_count": 355,
   "metadata": {
    "collapsed": false
   },
   "outputs": [
    {
     "name": "stdout",
     "output_type": "stream",
     "text": [
      "[1] \"start:  1  end:  10000\"\n",
      "[1] \"start:  10001  end:  20000\"\n",
      "[1] \"start:  20001  end:  30000\"\n",
      "[1] \"start:  30001  end:  40000\"\n",
      "[1] \"start:  40001  end:  50000\"\n",
      "[1] \"start:  50001  end:  60000\"\n",
      "[1] \"start:  60001  end:  70000\"\n",
      "[1] \"start:  70001  end:  80000\"\n",
      "[1] \"start:  80001  end:  90000\"\n",
      "[1] \"start:  90001  end:  1e+05\"\n",
      "[1] \"start:  100001  end:  110000\"\n",
      "[1] \"start:  110001  end:  120000\"\n",
      "[1] \"start:  120001  end:  130000\"\n",
      "[1] \"start:  130001  end:  140000\"\n",
      "[1] \"start:  140001  end:  150000\"\n",
      "[1] \"start:  150001  end:  160000\"\n",
      "[1] \"start:  160001  end:  170000\"\n",
      "[1] \"start:  170001  end:  180000\"\n",
      "[1] \"start:  180001  end:  190000\"\n",
      "[1] \"start:  190001  end:  2e+05\"\n",
      "[1] \"start:  200001  end:  210000\"\n",
      "[1] \"start:  210001  end:  220000\"\n",
      "[1] \"start:  220001  end:  230000\"\n",
      "[1] \"start:  230001  end:  240000\"\n",
      "[1] \"start:  240001  end:  250000\"\n",
      "[1] \"start:  250001  end:  260000\"\n",
      "[1] \"start:  260001  end:  270000\"\n",
      "[1] \"start:  270001  end:  280000\"\n",
      "[1] \"start:  280001  end:  288277\"\n"
     ]
    }
   ],
   "source": [
    "# TCGAtranslateID does not seem to be able to handle more than ~10,000 UUIDs at a time\n",
    "for (index in indices) {\n",
    "#     if (index < 19991) {\n",
    "#         next\n",
    "#     }\n",
    "    start <- index\n",
    "    end <- index + step - 1\n",
    "    \n",
    "    if (index == tail(indices, 1)) {\n",
    "        end <- nrow(total_df)\n",
    "    }\n",
    "    print(paste(\"start: \", start, \" end: \", end))\n",
    "    temp_df <- total_df[start:end,]\n",
    "    temp_uuids <- temp_df[,'id']\n",
    "    temp_barcode_df <- TCGAtranslateID(temp_uuids)\n",
    "    if (index == 1) {\n",
    "        total_output <- temp_barcode_df\n",
    "    } \n",
    "    else {\n",
    "        total_output <- rbind(total_output, temp_barcode_df)\n",
    "    }\n",
    "}"
   ]
  },
  {
   "cell_type": "code",
   "execution_count": 358,
   "metadata": {
    "collapsed": false,
    "scrolled": false
   },
   "outputs": [
    {
     "data": {
      "text/html": [
       "<table>\n",
       "<thead><tr><th></th><th scope=col>file_id</th><th scope=col>file_name</th><th scope=col>barcode</th><th scope=col>sample_barcode</th><th scope=col>type</th><th scope=col>data_format</th></tr></thead>\n",
       "<tbody>\n",
       "\t<tr><th scope=row>288258</th><td>6d127809-3000-47b3-a38c-cf23bfaf7b0d                                      </td><td>dae3ad4e-f035-49f6-a2be-75b1f69800c4.mirbase21.isoforms.quantification.txt</td><td>TCGA-HZ-A8P0                                                              </td><td>TCGA-HZ-A8P0-01A                                                          </td><td>mirna_expression                                                          </td><td>TSV                                                                       </td></tr>\n",
       "\t<tr><th scope=row>288259</th><td>9b1c4409-235e-43f0-a9e2-7aa489cc897c                                      </td><td>a79def22-f416-42e9-9ef6-3ee554b5b17d.mirbase21.mirnas.quantification.txt  </td><td>TCGA-EK-A2RN                                                              </td><td>TCGA-EK-A2RN-01A                                                          </td><td>mirna_expression                                                          </td><td>TSV                                                                       </td></tr>\n",
       "\t<tr><th scope=row>288260</th><td>a8b8f998-4973-466a-95f3-df082aa4c42a                                      </td><td>6f4fcf38-5623-4984-b5f5-68d1ec2f8b5c.mirbase21.isoforms.quantification.txt</td><td>TCGA-BT-A20V                                                              </td><td>TCGA-BT-A20V-01A                                                          </td><td>mirna_expression                                                          </td><td>TSV                                                                       </td></tr>\n",
       "\t<tr><th scope=row>288261</th><td>c83df78c-5765-4d1e-b5e7-3a0df4d1ebc8                                      </td><td>ff4c5ac9-fd9a-40a9-9d70-1c890ca04332.FPKM-UQ.txt.gz                       </td><td>TCGA-2Z-A9JQ                                                              </td><td>TCGA-2Z-A9JQ-01A                                                          </td><td>gene_expression                                                           </td><td>TXT                                                                       </td></tr>\n",
       "\t<tr><th scope=row>288262</th><td>949c5b4e-a6f2-4d9e-9549-625b92c79292                                      </td><td>610600b6-c285-4a32-894b-14c80040f750.mirbase21.mirnas.quantification.txt  </td><td>TCGA-AL-3468                                                              </td><td>TCGA-AL-3468-01A                                                          </td><td>mirna_expression                                                          </td><td>TSV                                                                       </td></tr>\n",
       "\t<tr><th scope=row>288263</th><td>6dc73d52-1767-4b69-a476-eb4c1ca84067                                      </td><td>3ebca0e5-d7ba-4c6f-b746-abfac50a04bc.mirbase21.isoforms.quantification.txt</td><td>TARGET-50-PAJNCJ                                                          </td><td>TARGET-50-PAJNCJ-01A                                                      </td><td>mirna_expression                                                          </td><td>TSV                                                                       </td></tr>\n",
       "\t<tr><th scope=row>288264</th><td>a0f0dd67-f2ca-44ae-8564-1b265040c7ee                                      </td><td>a5e07df6-2166-422f-b852-dc5da2e3a876.FPKM.txt.gz                          </td><td>TCGA-UZ-A9PM                                                              </td><td>TCGA-UZ-A9PM-01A                                                          </td><td>gene_expression                                                           </td><td>TXT                                                                       </td></tr>\n",
       "\t<tr><th scope=row>288265</th><td>090330b6-5568-45b5-bd4d-3d4b3b8d846c                                      </td><td>ca57d990-f70a-4506-ae83-4e0a9b46a02d.htseq.counts.gz                      </td><td>TARGET-50-PALDTE                                                          </td><td>TARGET-50-PALDTE-01A                                                      </td><td>gene_expression                                                           </td><td>TXT                                                                       </td></tr>\n",
       "\t<tr><th scope=row>288266</th><td>525f0127-146d-4805-aa1d-bd50706b2a34                                      </td><td>672d5558-5679-4710-a3bb-baf3a6e53552.mirbase21.isoforms.quantification.txt</td><td>TCGA-UY-A9PA                                                              </td><td>TCGA-UY-A9PA-01A                                                          </td><td>mirna_expression                                                          </td><td>TSV                                                                       </td></tr>\n",
       "\t<tr><th scope=row>288267</th><td>bff1004a-5c0b-4d9e-bb2e-d193e1c03c75                                      </td><td>98bdb2ac-c7d9-4f11-a078-a3af8b92ea18.mirbase21.isoforms.quantification.txt</td><td>TCGA-SQ-A6I4                                                              </td><td>TCGA-SQ-A6I4-11A                                                          </td><td>mirna_expression                                                          </td><td>TSV                                                                       </td></tr>\n",
       "\t<tr><th scope=row>288268</th><td>f55d6712-8000-416c-80b0-b40c991648a0                                      </td><td>7952ba99-0e92-4d28-9b1a-2ec3858264f2.htseq.counts.gz                      </td><td>TCGA-MA-AA42                                                              </td><td>TCGA-MA-AA42-01A                                                          </td><td>gene_expression                                                           </td><td>TXT                                                                       </td></tr>\n",
       "\t<tr><th scope=row>288269</th><td>ec8ed749-90fc-4dc6-9cf5-a53b5288715b                                      </td><td>3d58ba78-0396-4b91-a50d-777c47fe4e76.mirbase21.mirnas.quantification.txt  </td><td>TCGA-C8-A12U                                                              </td><td>TCGA-C8-A12U-01A                                                          </td><td>mirna_expression                                                          </td><td>TSV                                                                       </td></tr>\n",
       "\t<tr><th scope=row>288270</th><td>73559b2e-b491-44be-9acf-240f57dd9c4f                                      </td><td>63ec448f-e7ba-4c82-a2ae-9cfa24999e13.mirbase21.isoforms.quantification.txt</td><td>TCGA-EA-A5FO                                                              </td><td>TCGA-EA-A5FO-01A                                                          </td><td>mirna_expression                                                          </td><td>TSV                                                                       </td></tr>\n",
       "\t<tr><th scope=row>288271</th><td>dd689742-20a0-43ad-adbb-f26651d10b6e                                      </td><td>1a67c89f-aae9-4fb8-aa24-615e570df58a.mirbase21.isoforms.quantification.txt</td><td>TCGA-BH-A0BW                                                              </td><td>TCGA-BH-A0BW-11A                                                          </td><td>mirna_expression                                                          </td><td>TSV                                                                       </td></tr>\n",
       "\t<tr><th scope=row>288272</th><td>e456e226-97cf-439d-bcc2-e8dd1206db4e                                      </td><td>3be0bfb9-097d-4875-beaa-b0a9929b4c91.FPKM-UQ.txt.gz                       </td><td>TCGA-AR-A1AM                                                              </td><td>TCGA-AR-A1AM-01A                                                          </td><td>gene_expression                                                           </td><td>TXT                                                                       </td></tr>\n",
       "\t<tr><th scope=row>288273</th><td>2b6044b5-5518-4974-a0de-83a9d050c7bc                                      </td><td>9b4a8702-e00c-4a28-9e56-5a32bf3313af.FPKM.txt.gz                          </td><td>TCGA-B6-A0IG                                                              </td><td>TCGA-B6-A0IG-01A                                                          </td><td>gene_expression                                                           </td><td>TXT                                                                       </td></tr>\n",
       "\t<tr><th scope=row>288274</th><td>52b65943-02b9-4ba8-8ae2-3f74622a4de8                                      </td><td>dba2964e-2676-4aca-af36-5de4bd1036b9.FPKM.txt.gz                          </td><td>TCGA-G7-A8LB                                                              </td><td>TCGA-G7-A8LB-01A                                                          </td><td>gene_expression                                                           </td><td>TXT                                                                       </td></tr>\n",
       "\t<tr><th scope=row>288275</th><td>1199f960-e6ce-4a2a-8623-5db3dee50612                                      </td><td>3bdc5e08-f6d0-42af-a757-e8d0dd9241a7.mirbase21.isoforms.quantification.txt</td><td>TCGA-55-1595                                                              </td><td>TCGA-55-1595-01A                                                          </td><td>mirna_expression                                                          </td><td>TSV                                                                       </td></tr>\n",
       "\t<tr><th scope=row>288276</th><td>70f88006-772b-4682-837f-7b59c42a5de5                                      </td><td>73f7d513-46c8-4559-86cf-8b789c042e32.FPKM.txt.gz                          </td><td>TCGA-B6-A0IO                                                              </td><td>TCGA-B6-A0IO-01A                                                          </td><td>gene_expression                                                           </td><td>TXT                                                                       </td></tr>\n",
       "\t<tr><th scope=row>288277</th><td>bc7f1d79-c6a0-4812-818a-504e11ce1487                                      </td><td>99e70b80-ddcd-4d77-8e09-7e9680163e59.mirbase21.mirnas.quantification.txt  </td><td>TARGET-50-PAKZER                                                          </td><td>TARGET-50-PAKZER-01A                                                      </td><td>mirna_expression                                                          </td><td>TSV                                                                       </td></tr>\n",
       "</tbody>\n",
       "</table>\n"
      ],
      "text/latex": [
       "\\begin{tabular}{r|llllll}\n",
       "  & file\\_id & file\\_name & barcode & sample\\_barcode & type & data\\_format\\\\\n",
       "\\hline\n",
       "\t288258 & 6d127809-3000-47b3-a38c-cf23bfaf7b0d                                       & dae3ad4e-f035-49f6-a2be-75b1f69800c4.mirbase21.isoforms.quantification.txt & TCGA-HZ-A8P0                                                               & TCGA-HZ-A8P0-01A                                                           & mirna\\_expression                                                         & TSV                                                                       \\\\\n",
       "\t288259 & 9b1c4409-235e-43f0-a9e2-7aa489cc897c                                       & a79def22-f416-42e9-9ef6-3ee554b5b17d.mirbase21.mirnas.quantification.txt   & TCGA-EK-A2RN                                                               & TCGA-EK-A2RN-01A                                                           & mirna\\_expression                                                         & TSV                                                                       \\\\\n",
       "\t288260 & a8b8f998-4973-466a-95f3-df082aa4c42a                                       & 6f4fcf38-5623-4984-b5f5-68d1ec2f8b5c.mirbase21.isoforms.quantification.txt & TCGA-BT-A20V                                                               & TCGA-BT-A20V-01A                                                           & mirna\\_expression                                                         & TSV                                                                       \\\\\n",
       "\t288261 & c83df78c-5765-4d1e-b5e7-3a0df4d1ebc8                                       & ff4c5ac9-fd9a-40a9-9d70-1c890ca04332.FPKM-UQ.txt.gz                        & TCGA-2Z-A9JQ                                                               & TCGA-2Z-A9JQ-01A                                                           & gene\\_expression                                                          & TXT                                                                       \\\\\n",
       "\t288262 & 949c5b4e-a6f2-4d9e-9549-625b92c79292                                       & 610600b6-c285-4a32-894b-14c80040f750.mirbase21.mirnas.quantification.txt   & TCGA-AL-3468                                                               & TCGA-AL-3468-01A                                                           & mirna\\_expression                                                         & TSV                                                                       \\\\\n",
       "\t288263 & 6dc73d52-1767-4b69-a476-eb4c1ca84067                                       & 3ebca0e5-d7ba-4c6f-b746-abfac50a04bc.mirbase21.isoforms.quantification.txt & TARGET-50-PAJNCJ                                                           & TARGET-50-PAJNCJ-01A                                                       & mirna\\_expression                                                         & TSV                                                                       \\\\\n",
       "\t288264 & a0f0dd67-f2ca-44ae-8564-1b265040c7ee                                       & a5e07df6-2166-422f-b852-dc5da2e3a876.FPKM.txt.gz                           & TCGA-UZ-A9PM                                                               & TCGA-UZ-A9PM-01A                                                           & gene\\_expression                                                          & TXT                                                                       \\\\\n",
       "\t288265 & 090330b6-5568-45b5-bd4d-3d4b3b8d846c                                       & ca57d990-f70a-4506-ae83-4e0a9b46a02d.htseq.counts.gz                       & TARGET-50-PALDTE                                                           & TARGET-50-PALDTE-01A                                                       & gene\\_expression                                                          & TXT                                                                       \\\\\n",
       "\t288266 & 525f0127-146d-4805-aa1d-bd50706b2a34                                       & 672d5558-5679-4710-a3bb-baf3a6e53552.mirbase21.isoforms.quantification.txt & TCGA-UY-A9PA                                                               & TCGA-UY-A9PA-01A                                                           & mirna\\_expression                                                         & TSV                                                                       \\\\\n",
       "\t288267 & bff1004a-5c0b-4d9e-bb2e-d193e1c03c75                                       & 98bdb2ac-c7d9-4f11-a078-a3af8b92ea18.mirbase21.isoforms.quantification.txt & TCGA-SQ-A6I4                                                               & TCGA-SQ-A6I4-11A                                                           & mirna\\_expression                                                         & TSV                                                                       \\\\\n",
       "\t288268 & f55d6712-8000-416c-80b0-b40c991648a0                                       & 7952ba99-0e92-4d28-9b1a-2ec3858264f2.htseq.counts.gz                       & TCGA-MA-AA42                                                               & TCGA-MA-AA42-01A                                                           & gene\\_expression                                                          & TXT                                                                       \\\\\n",
       "\t288269 & ec8ed749-90fc-4dc6-9cf5-a53b5288715b                                       & 3d58ba78-0396-4b91-a50d-777c47fe4e76.mirbase21.mirnas.quantification.txt   & TCGA-C8-A12U                                                               & TCGA-C8-A12U-01A                                                           & mirna\\_expression                                                         & TSV                                                                       \\\\\n",
       "\t288270 & 73559b2e-b491-44be-9acf-240f57dd9c4f                                       & 63ec448f-e7ba-4c82-a2ae-9cfa24999e13.mirbase21.isoforms.quantification.txt & TCGA-EA-A5FO                                                               & TCGA-EA-A5FO-01A                                                           & mirna\\_expression                                                         & TSV                                                                       \\\\\n",
       "\t288271 & dd689742-20a0-43ad-adbb-f26651d10b6e                                       & 1a67c89f-aae9-4fb8-aa24-615e570df58a.mirbase21.isoforms.quantification.txt & TCGA-BH-A0BW                                                               & TCGA-BH-A0BW-11A                                                           & mirna\\_expression                                                         & TSV                                                                       \\\\\n",
       "\t288272 & e456e226-97cf-439d-bcc2-e8dd1206db4e                                       & 3be0bfb9-097d-4875-beaa-b0a9929b4c91.FPKM-UQ.txt.gz                        & TCGA-AR-A1AM                                                               & TCGA-AR-A1AM-01A                                                           & gene\\_expression                                                          & TXT                                                                       \\\\\n",
       "\t288273 & 2b6044b5-5518-4974-a0de-83a9d050c7bc                                       & 9b4a8702-e00c-4a28-9e56-5a32bf3313af.FPKM.txt.gz                           & TCGA-B6-A0IG                                                               & TCGA-B6-A0IG-01A                                                           & gene\\_expression                                                          & TXT                                                                       \\\\\n",
       "\t288274 & 52b65943-02b9-4ba8-8ae2-3f74622a4de8                                       & dba2964e-2676-4aca-af36-5de4bd1036b9.FPKM.txt.gz                           & TCGA-G7-A8LB                                                               & TCGA-G7-A8LB-01A                                                           & gene\\_expression                                                          & TXT                                                                       \\\\\n",
       "\t288275 & 1199f960-e6ce-4a2a-8623-5db3dee50612                                       & 3bdc5e08-f6d0-42af-a757-e8d0dd9241a7.mirbase21.isoforms.quantification.txt & TCGA-55-1595                                                               & TCGA-55-1595-01A                                                           & mirna\\_expression                                                         & TSV                                                                       \\\\\n",
       "\t288276 & 70f88006-772b-4682-837f-7b59c42a5de5                                       & 73f7d513-46c8-4559-86cf-8b789c042e32.FPKM.txt.gz                           & TCGA-B6-A0IO                                                               & TCGA-B6-A0IO-01A                                                           & gene\\_expression                                                          & TXT                                                                       \\\\\n",
       "\t288277 & bc7f1d79-c6a0-4812-818a-504e11ce1487                                       & 99e70b80-ddcd-4d77-8e09-7e9680163e59.mirbase21.mirnas.quantification.txt   & TARGET-50-PAKZER                                                           & TARGET-50-PAKZER-01A                                                       & mirna\\_expression                                                         & TSV                                                                       \\\\\n",
       "\\end{tabular}\n"
      ],
      "text/markdown": [
       "\n",
       "| <!--/--> | file_id | file_name | barcode | sample_barcode | type | data_format | \n",
       "|---|---|---|---|---|---|---|---|---|---|---|---|---|---|---|---|---|---|---|---|\n",
       "| 288258 | 6d127809-3000-47b3-a38c-cf23bfaf7b0d                                       | dae3ad4e-f035-49f6-a2be-75b1f69800c4.mirbase21.isoforms.quantification.txt | TCGA-HZ-A8P0                                                               | TCGA-HZ-A8P0-01A                                                           | mirna_expression                                                           | TSV                                                                        | \n",
       "| 288259 | 9b1c4409-235e-43f0-a9e2-7aa489cc897c                                       | a79def22-f416-42e9-9ef6-3ee554b5b17d.mirbase21.mirnas.quantification.txt   | TCGA-EK-A2RN                                                               | TCGA-EK-A2RN-01A                                                           | mirna_expression                                                           | TSV                                                                        | \n",
       "| 288260 | a8b8f998-4973-466a-95f3-df082aa4c42a                                       | 6f4fcf38-5623-4984-b5f5-68d1ec2f8b5c.mirbase21.isoforms.quantification.txt | TCGA-BT-A20V                                                               | TCGA-BT-A20V-01A                                                           | mirna_expression                                                           | TSV                                                                        | \n",
       "| 288261 | c83df78c-5765-4d1e-b5e7-3a0df4d1ebc8                                       | ff4c5ac9-fd9a-40a9-9d70-1c890ca04332.FPKM-UQ.txt.gz                        | TCGA-2Z-A9JQ                                                               | TCGA-2Z-A9JQ-01A                                                           | gene_expression                                                            | TXT                                                                        | \n",
       "| 288262 | 949c5b4e-a6f2-4d9e-9549-625b92c79292                                       | 610600b6-c285-4a32-894b-14c80040f750.mirbase21.mirnas.quantification.txt   | TCGA-AL-3468                                                               | TCGA-AL-3468-01A                                                           | mirna_expression                                                           | TSV                                                                        | \n",
       "| 288263 | 6dc73d52-1767-4b69-a476-eb4c1ca84067                                       | 3ebca0e5-d7ba-4c6f-b746-abfac50a04bc.mirbase21.isoforms.quantification.txt | TARGET-50-PAJNCJ                                                           | TARGET-50-PAJNCJ-01A                                                       | mirna_expression                                                           | TSV                                                                        | \n",
       "| 288264 | a0f0dd67-f2ca-44ae-8564-1b265040c7ee                                       | a5e07df6-2166-422f-b852-dc5da2e3a876.FPKM.txt.gz                           | TCGA-UZ-A9PM                                                               | TCGA-UZ-A9PM-01A                                                           | gene_expression                                                            | TXT                                                                        | \n",
       "| 288265 | 090330b6-5568-45b5-bd4d-3d4b3b8d846c                                       | ca57d990-f70a-4506-ae83-4e0a9b46a02d.htseq.counts.gz                       | TARGET-50-PALDTE                                                           | TARGET-50-PALDTE-01A                                                       | gene_expression                                                            | TXT                                                                        | \n",
       "| 288266 | 525f0127-146d-4805-aa1d-bd50706b2a34                                       | 672d5558-5679-4710-a3bb-baf3a6e53552.mirbase21.isoforms.quantification.txt | TCGA-UY-A9PA                                                               | TCGA-UY-A9PA-01A                                                           | mirna_expression                                                           | TSV                                                                        | \n",
       "| 288267 | bff1004a-5c0b-4d9e-bb2e-d193e1c03c75                                       | 98bdb2ac-c7d9-4f11-a078-a3af8b92ea18.mirbase21.isoforms.quantification.txt | TCGA-SQ-A6I4                                                               | TCGA-SQ-A6I4-11A                                                           | mirna_expression                                                           | TSV                                                                        | \n",
       "| 288268 | f55d6712-8000-416c-80b0-b40c991648a0                                       | 7952ba99-0e92-4d28-9b1a-2ec3858264f2.htseq.counts.gz                       | TCGA-MA-AA42                                                               | TCGA-MA-AA42-01A                                                           | gene_expression                                                            | TXT                                                                        | \n",
       "| 288269 | ec8ed749-90fc-4dc6-9cf5-a53b5288715b                                       | 3d58ba78-0396-4b91-a50d-777c47fe4e76.mirbase21.mirnas.quantification.txt   | TCGA-C8-A12U                                                               | TCGA-C8-A12U-01A                                                           | mirna_expression                                                           | TSV                                                                        | \n",
       "| 288270 | 73559b2e-b491-44be-9acf-240f57dd9c4f                                       | 63ec448f-e7ba-4c82-a2ae-9cfa24999e13.mirbase21.isoforms.quantification.txt | TCGA-EA-A5FO                                                               | TCGA-EA-A5FO-01A                                                           | mirna_expression                                                           | TSV                                                                        | \n",
       "| 288271 | dd689742-20a0-43ad-adbb-f26651d10b6e                                       | 1a67c89f-aae9-4fb8-aa24-615e570df58a.mirbase21.isoforms.quantification.txt | TCGA-BH-A0BW                                                               | TCGA-BH-A0BW-11A                                                           | mirna_expression                                                           | TSV                                                                        | \n",
       "| 288272 | e456e226-97cf-439d-bcc2-e8dd1206db4e                                       | 3be0bfb9-097d-4875-beaa-b0a9929b4c91.FPKM-UQ.txt.gz                        | TCGA-AR-A1AM                                                               | TCGA-AR-A1AM-01A                                                           | gene_expression                                                            | TXT                                                                        | \n",
       "| 288273 | 2b6044b5-5518-4974-a0de-83a9d050c7bc                                       | 9b4a8702-e00c-4a28-9e56-5a32bf3313af.FPKM.txt.gz                           | TCGA-B6-A0IG                                                               | TCGA-B6-A0IG-01A                                                           | gene_expression                                                            | TXT                                                                        | \n",
       "| 288274 | 52b65943-02b9-4ba8-8ae2-3f74622a4de8                                       | dba2964e-2676-4aca-af36-5de4bd1036b9.FPKM.txt.gz                           | TCGA-G7-A8LB                                                               | TCGA-G7-A8LB-01A                                                           | gene_expression                                                            | TXT                                                                        | \n",
       "| 288275 | 1199f960-e6ce-4a2a-8623-5db3dee50612                                       | 3bdc5e08-f6d0-42af-a757-e8d0dd9241a7.mirbase21.isoforms.quantification.txt | TCGA-55-1595                                                               | TCGA-55-1595-01A                                                           | mirna_expression                                                           | TSV                                                                        | \n",
       "| 288276 | 70f88006-772b-4682-837f-7b59c42a5de5                                       | 73f7d513-46c8-4559-86cf-8b789c042e32.FPKM.txt.gz                           | TCGA-B6-A0IO                                                               | TCGA-B6-A0IO-01A                                                           | gene_expression                                                            | TXT                                                                        | \n",
       "| 288277 | bc7f1d79-c6a0-4812-818a-504e11ce1487                                       | 99e70b80-ddcd-4d77-8e09-7e9680163e59.mirbase21.mirnas.quantification.txt   | TARGET-50-PAKZER                                                           | TARGET-50-PAKZER-01A                                                       | mirna_expression                                                           | TSV                                                                        | \n",
       "\n",
       "\n"
      ],
      "text/plain": [
       "       file_id                             \n",
       "288258 6d127809-3000-47b3-a38c-cf23bfaf7b0d\n",
       "288259 9b1c4409-235e-43f0-a9e2-7aa489cc897c\n",
       "288260 a8b8f998-4973-466a-95f3-df082aa4c42a\n",
       "288261 c83df78c-5765-4d1e-b5e7-3a0df4d1ebc8\n",
       "288262 949c5b4e-a6f2-4d9e-9549-625b92c79292\n",
       "288263 6dc73d52-1767-4b69-a476-eb4c1ca84067\n",
       "288264 a0f0dd67-f2ca-44ae-8564-1b265040c7ee\n",
       "288265 090330b6-5568-45b5-bd4d-3d4b3b8d846c\n",
       "288266 525f0127-146d-4805-aa1d-bd50706b2a34\n",
       "288267 bff1004a-5c0b-4d9e-bb2e-d193e1c03c75\n",
       "288268 f55d6712-8000-416c-80b0-b40c991648a0\n",
       "288269 ec8ed749-90fc-4dc6-9cf5-a53b5288715b\n",
       "288270 73559b2e-b491-44be-9acf-240f57dd9c4f\n",
       "288271 dd689742-20a0-43ad-adbb-f26651d10b6e\n",
       "288272 e456e226-97cf-439d-bcc2-e8dd1206db4e\n",
       "288273 2b6044b5-5518-4974-a0de-83a9d050c7bc\n",
       "288274 52b65943-02b9-4ba8-8ae2-3f74622a4de8\n",
       "288275 1199f960-e6ce-4a2a-8623-5db3dee50612\n",
       "288276 70f88006-772b-4682-837f-7b59c42a5de5\n",
       "288277 bc7f1d79-c6a0-4812-818a-504e11ce1487\n",
       "       file_name                                                                 \n",
       "288258 dae3ad4e-f035-49f6-a2be-75b1f69800c4.mirbase21.isoforms.quantification.txt\n",
       "288259 a79def22-f416-42e9-9ef6-3ee554b5b17d.mirbase21.mirnas.quantification.txt  \n",
       "288260 6f4fcf38-5623-4984-b5f5-68d1ec2f8b5c.mirbase21.isoforms.quantification.txt\n",
       "288261 ff4c5ac9-fd9a-40a9-9d70-1c890ca04332.FPKM-UQ.txt.gz                       \n",
       "288262 610600b6-c285-4a32-894b-14c80040f750.mirbase21.mirnas.quantification.txt  \n",
       "288263 3ebca0e5-d7ba-4c6f-b746-abfac50a04bc.mirbase21.isoforms.quantification.txt\n",
       "288264 a5e07df6-2166-422f-b852-dc5da2e3a876.FPKM.txt.gz                          \n",
       "288265 ca57d990-f70a-4506-ae83-4e0a9b46a02d.htseq.counts.gz                      \n",
       "288266 672d5558-5679-4710-a3bb-baf3a6e53552.mirbase21.isoforms.quantification.txt\n",
       "288267 98bdb2ac-c7d9-4f11-a078-a3af8b92ea18.mirbase21.isoforms.quantification.txt\n",
       "288268 7952ba99-0e92-4d28-9b1a-2ec3858264f2.htseq.counts.gz                      \n",
       "288269 3d58ba78-0396-4b91-a50d-777c47fe4e76.mirbase21.mirnas.quantification.txt  \n",
       "288270 63ec448f-e7ba-4c82-a2ae-9cfa24999e13.mirbase21.isoforms.quantification.txt\n",
       "288271 1a67c89f-aae9-4fb8-aa24-615e570df58a.mirbase21.isoforms.quantification.txt\n",
       "288272 3be0bfb9-097d-4875-beaa-b0a9929b4c91.FPKM-UQ.txt.gz                       \n",
       "288273 9b4a8702-e00c-4a28-9e56-5a32bf3313af.FPKM.txt.gz                          \n",
       "288274 dba2964e-2676-4aca-af36-5de4bd1036b9.FPKM.txt.gz                          \n",
       "288275 3bdc5e08-f6d0-42af-a757-e8d0dd9241a7.mirbase21.isoforms.quantification.txt\n",
       "288276 73f7d513-46c8-4559-86cf-8b789c042e32.FPKM.txt.gz                          \n",
       "288277 99e70b80-ddcd-4d77-8e09-7e9680163e59.mirbase21.mirnas.quantification.txt  \n",
       "       barcode          sample_barcode       type             data_format\n",
       "288258 TCGA-HZ-A8P0     TCGA-HZ-A8P0-01A     mirna_expression TSV        \n",
       "288259 TCGA-EK-A2RN     TCGA-EK-A2RN-01A     mirna_expression TSV        \n",
       "288260 TCGA-BT-A20V     TCGA-BT-A20V-01A     mirna_expression TSV        \n",
       "288261 TCGA-2Z-A9JQ     TCGA-2Z-A9JQ-01A     gene_expression  TXT        \n",
       "288262 TCGA-AL-3468     TCGA-AL-3468-01A     mirna_expression TSV        \n",
       "288263 TARGET-50-PAJNCJ TARGET-50-PAJNCJ-01A mirna_expression TSV        \n",
       "288264 TCGA-UZ-A9PM     TCGA-UZ-A9PM-01A     gene_expression  TXT        \n",
       "288265 TARGET-50-PALDTE TARGET-50-PALDTE-01A gene_expression  TXT        \n",
       "288266 TCGA-UY-A9PA     TCGA-UY-A9PA-01A     mirna_expression TSV        \n",
       "288267 TCGA-SQ-A6I4     TCGA-SQ-A6I4-11A     mirna_expression TSV        \n",
       "288268 TCGA-MA-AA42     TCGA-MA-AA42-01A     gene_expression  TXT        \n",
       "288269 TCGA-C8-A12U     TCGA-C8-A12U-01A     mirna_expression TSV        \n",
       "288270 TCGA-EA-A5FO     TCGA-EA-A5FO-01A     mirna_expression TSV        \n",
       "288271 TCGA-BH-A0BW     TCGA-BH-A0BW-11A     mirna_expression TSV        \n",
       "288272 TCGA-AR-A1AM     TCGA-AR-A1AM-01A     gene_expression  TXT        \n",
       "288273 TCGA-B6-A0IG     TCGA-B6-A0IG-01A     gene_expression  TXT        \n",
       "288274 TCGA-G7-A8LB     TCGA-G7-A8LB-01A     gene_expression  TXT        \n",
       "288275 TCGA-55-1595     TCGA-55-1595-01A     mirna_expression TSV        \n",
       "288276 TCGA-B6-A0IO     TCGA-B6-A0IO-01A     gene_expression  TXT        \n",
       "288277 TARGET-50-PAKZER TARGET-50-PAKZER-01A mirna_expression TSV        "
      ]
     },
     "metadata": {},
     "output_type": "display_data"
    }
   ],
   "source": [
    "tail(total_output, 20)"
   ]
  },
  {
   "cell_type": "code",
   "execution_count": 359,
   "metadata": {
    "collapsed": false
   },
   "outputs": [],
   "source": [
    "write.table(total_output, file='~/GDC_barcodes/uuid_barcode_map.txt', quote=FALSE, sep='\\t', row.names=FALSE)"
   ]
  },
  {
   "cell_type": "code",
   "execution_count": null,
   "metadata": {
    "collapsed": true
   },
   "outputs": [],
   "source": []
  },
  {
   "cell_type": "code",
   "execution_count": null,
   "metadata": {
    "collapsed": true
   },
   "outputs": [],
   "source": []
  }
 ],
 "metadata": {
  "kernelspec": {
   "display_name": "R 3.4",
   "language": "R",
   "name": "ir34"
  },
  "language_info": {
   "codemirror_mode": "r",
   "file_extension": ".r",
   "mimetype": "text/x-r-source",
   "name": "R",
   "pygments_lexer": "r",
   "version": "3.4.3"
  }
 },
 "nbformat": 4,
 "nbformat_minor": 0
}
