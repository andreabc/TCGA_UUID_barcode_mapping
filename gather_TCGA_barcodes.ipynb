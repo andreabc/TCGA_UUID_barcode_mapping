{
 "cells": [
  {
   "cell_type": "markdown",
   "metadata": {},
   "source": [
    "## Creates map of sample UUIDs and barcodes\n",
    "- adapted from: https://seandavi.github.io/post/2017/12/genomicdatacommons-example-uuid-to-tcga-and-target-barcode-translation/\n",
    "- other resources: https://bioconductor.org/packages/devel/bioc/manuals/GenomicDataCommons/man/GenomicDataCommons.pdf"
   ]
  },
  {
   "cell_type": "code",
   "execution_count": 1,
   "metadata": {
    "collapsed": false
   },
   "outputs": [
    {
     "name": "stderr",
     "output_type": "stream",
     "text": [
      "Loading required package: magrittr\n",
      "\n",
      "Attaching package: ‘GenomicDataCommons’\n",
      "\n",
      "The following object is masked from ‘package:stats’:\n",
      "\n",
      "    filter\n",
      "\n"
     ]
    }
   ],
   "source": [
    "library(GenomicDataCommons)\n",
    "library(magrittr)"
   ]
  },
  {
   "cell_type": "code",
   "execution_count": 20,
   "metadata": {
    "collapsed": false
   },
   "outputs": [],
   "source": [
    "TCGAtranslateID = function(file_ids, legacy = FALSE) {\n",
    "    info = files(legacy = legacy) %>%\n",
    "        filter( ~ file_id %in% file_ids) %>%\n",
    "        select(c('cases.submitter_id', 'file_name', 'data_format', 'cases.samples.submitter_id', 'type', 'cases.project.project_id')) %>%\n",
    "        results()\n",
    "#     print(info)\n",
    "    \n",
    "    ### to view all possible fields, uncomment the following block\n",
    "#     info2 = files(legacy = legacy) %>%\n",
    "#         filter( ~ file_id %in% file_ids) %>%\n",
    "#         select(available_fields('files')) \n",
    "#     print(info2)\n",
    "    \n",
    "    file_id  = info$file_id\n",
    "    file_name = info$file_name\n",
    "    data_format = info$data_format\n",
    "    type = info$type\n",
    "\n",
    "    \n",
    "    ### gets patient barcode\n",
    "    barcode_list <- (lapply(info$cases, function(a) { a[[3]][[1]][[1]] }))\n",
    "    barcode_lengths <- lapply(barcode_list, length)\n",
    "    barcode_mask <- unlist(lapply(barcode_lengths, function(a) {a > 1}))\n",
    "    barcode_list[barcode_mask] <- NA\n",
    "    \n",
    "    ### gets patient disease type\n",
    "    disease_list <- (lapply(info$cases, function(a) { a[[1]][[1]][[1]] }))\n",
    "    \n",
    "\n",
    "    ## gets sample barcodes - if has more than 1 barcode (e.g. VCF files) then it is not the type of \n",
    "    ## experiment (e.g. BAM) where barcode can tell you if it is tumor/normal sample\n",
    "    sample_barcode_list <- (lapply(info$cases, function(a) {a[[2]][[1]][[1]] }))\n",
    "    sample_barcode_lengths <- lapply(sample_barcode_list, length)\n",
    "    sample_barcode_mask <- unlist(lapply(sample_barcode_lengths, function(a) {a > 1}))\n",
    "    sample_barcode_list[sample_barcode_mask] <- NA\n",
    "    \n",
    "    \n",
    "#     print('----------')\n",
    "#     print(paste('fild_id: ', file_id))\n",
    "#     print(paste('file_name: ', file_name))\n",
    "#     print(paste('data_format:', data_format))\n",
    "#     print(paste('barcode:', unlist(barcode_list)))\n",
    "#     print(paste('sample_barcode:', unlist(sample_barcode_list)))\n",
    "#     print('----------')\n",
    "    \n",
    "    \n",
    "    # And build the data.frame\n",
    "    return(data.frame(file_id = file_id,\n",
    "                      file_name = file_name, \n",
    "                      barcode = unlist(barcode_list, use.names=F), \n",
    "                      sample_barcode = unlist(sample_barcode_list, use.names=F),\n",
    "                      disease = unlist(disease_list, use.names=F),\n",
    "                      type = type,\n",
    "                      data_format = data_format))\n",
    "    }"
   ]
  },
  {
   "cell_type": "code",
   "execution_count": 21,
   "metadata": {
    "collapsed": false,
    "scrolled": false
   },
   "outputs": [
    {
     "data": {
      "text/html": [
       "<table>\n",
       "<thead><tr><th scope=col>file_id</th><th scope=col>file_name</th><th scope=col>barcode</th><th scope=col>sample_barcode</th><th scope=col>disease</th><th scope=col>type</th><th scope=col>data_format</th></tr></thead>\n",
       "<tbody>\n",
       "\t<tr><td>88be35fc-3a1d-47ad-93b4-90d786341be7               </td><td>88be35fc-3a1d-47ad-93b4-90d786341be7.vep.vcf.gz    </td><td>TCGA-VM-A8CH                                       </td><td>NA                                                 </td><td>TCGA-LGG                                           </td><td>annotated_somatic_mutation                         </td><td>VCF                                                </td></tr>\n",
       "\t<tr><td>cb4a2233-e962-4e43-b1d1-e12e3c142476               </td><td>TCGA-OR-A5KS-01A-11D-A30A-10_Illumina_gdc_realn.bam</td><td>TCGA-OR-A5KS                                       </td><td>TCGA-OR-A5KS-01A                                   </td><td>TCGA-ACC                                           </td><td>aligned_reads                                      </td><td>BAM                                                </td></tr>\n",
       "</tbody>\n",
       "</table>\n"
      ],
      "text/latex": [
       "\\begin{tabular}{r|lllllll}\n",
       " file\\_id & file\\_name & barcode & sample\\_barcode & disease & type & data\\_format\\\\\n",
       "\\hline\n",
       "\t 88be35fc-3a1d-47ad-93b4-90d786341be7                & 88be35fc-3a1d-47ad-93b4-90d786341be7.vep.vcf.gz     & TCGA-VM-A8CH                                        & NA                                                  & TCGA-LGG                                            & annotated\\_somatic\\_mutation                      & VCF                                                \\\\\n",
       "\t cb4a2233-e962-4e43-b1d1-e12e3c142476                      & TCGA-OR-A5KS-01A-11D-A30A-10\\_Illumina\\_gdc\\_realn.bam & TCGA-OR-A5KS                                              & TCGA-OR-A5KS-01A                                          & TCGA-ACC                                                  & aligned\\_reads                                           & BAM                                                      \\\\\n",
       "\\end{tabular}\n"
      ],
      "text/markdown": [
       "\n",
       "file_id | file_name | barcode | sample_barcode | disease | type | data_format | \n",
       "|---|---|\n",
       "| 88be35fc-3a1d-47ad-93b4-90d786341be7                | 88be35fc-3a1d-47ad-93b4-90d786341be7.vep.vcf.gz     | TCGA-VM-A8CH                                        | NA                                                  | TCGA-LGG                                            | annotated_somatic_mutation                          | VCF                                                 | \n",
       "| cb4a2233-e962-4e43-b1d1-e12e3c142476                | TCGA-OR-A5KS-01A-11D-A30A-10_Illumina_gdc_realn.bam | TCGA-OR-A5KS                                        | TCGA-OR-A5KS-01A                                    | TCGA-ACC                                            | aligned_reads                                       | BAM                                                 | \n",
       "\n",
       "\n"
      ],
      "text/plain": [
       "  file_id                             \n",
       "1 88be35fc-3a1d-47ad-93b4-90d786341be7\n",
       "2 cb4a2233-e962-4e43-b1d1-e12e3c142476\n",
       "  file_name                                           barcode     \n",
       "1 88be35fc-3a1d-47ad-93b4-90d786341be7.vep.vcf.gz     TCGA-VM-A8CH\n",
       "2 TCGA-OR-A5KS-01A-11D-A30A-10_Illumina_gdc_realn.bam TCGA-OR-A5KS\n",
       "  sample_barcode   disease  type                       data_format\n",
       "1 NA               TCGA-LGG annotated_somatic_mutation VCF        \n",
       "2 TCGA-OR-A5KS-01A TCGA-ACC aligned_reads              BAM        "
      ]
     },
     "metadata": {},
     "output_type": "display_data"
    }
   ],
   "source": [
    "TCGAtranslateID(c('88be35fc-3a1d-47ad-93b4-90d786341be7', 'cb4a2233-e962-4e43-b1d1-e12e3c142476'))\n",
    "# TCGAtranslateID('cb4a2233-e962-4e43-b1d1-e12e3c142476')\n",
    "# TCGAtranslateID('23fa7b4b-9d68-429b-aece-658b11124bb3')"
   ]
  },
  {
   "cell_type": "code",
   "execution_count": 22,
   "metadata": {
    "collapsed": false
   },
   "outputs": [],
   "source": [
    "biospecimen_df <- read.csv('~/GDC_barcodes/gdc_manifest.2018-05-14_biospecimen.txt', sep='\\t', row.names=NULL)\n",
    "clinical_df <- read.csv('~/GDC_barcodes/gdc_manifest.2018-05-14_clinical.txt', sep='\\t', row.names=NULL)\n",
    "snv_df <- read.csv('~/GDC_barcodes/gdc_manifest.2018-05-14_SNV.txt', sep='\\t', row.names=NULL)\n",
    "cnv_df <- read.csv('~/GDC_barcodes/gdc_manifest.2018-05-14_CNV.txt', sep='\\t', row.names=NULL)\n",
    "methyl_df <- read.csv('~/GDC_barcodes/gdc_manifest.2018-05-14_DNA_methylation.txt', sep='\\t', row.names=NULL)\n",
    "raw_df <- read.csv('~/GDC_barcodes/gdc_manifest.2018-05-14_raw_seq_data.txt', sep='\\t', row.names=NULL)\n",
    "transcriptome_df <- read.csv('~/GDC_barcodes/gdc_manifest.2018-05-14_transcriptome_profiling.txt', sep='\\t', row.names=NULL)"
   ]
  },
  {
   "cell_type": "code",
   "execution_count": 23,
   "metadata": {
    "collapsed": false
   },
   "outputs": [
    {
     "data": {
      "text/html": [
       "<table>\n",
       "<thead><tr><th scope=col>id</th><th scope=col>filename</th><th scope=col>md5</th><th scope=col>size</th><th scope=col>state</th></tr></thead>\n",
       "<tbody>\n",
       "\t<tr><td>88be35fc-3a1d-47ad-93b4-90d786341be7           </td><td>88be35fc-3a1d-47ad-93b4-90d786341be7.vep.vcf.gz</td><td>d07cf83738686ae3053fe72e95c409e1               </td><td> 165208                                        </td><td>live                                           </td></tr>\n",
       "\t<tr><td>ad3dd7e9-808a-4e4b-8d43-dc3de68c8c5c           </td><td>ad3dd7e9-808a-4e4b-8d43-dc3de68c8c5c.vep.vcf.gz</td><td>35f2de2ef0304fe3ee8bb1229eb4c3b8               </td><td>1069229                                        </td><td>live                                           </td></tr>\n",
       "\t<tr><td>0b1c205c-c227-43dd-a308-1a46b4f733df           </td><td>0b1c205c-c227-43dd-a308-1a46b4f733df.vep.vcf.gz</td><td>9af292e502a6419905c3f25763e36b9c               </td><td> 110968                                        </td><td>live                                           </td></tr>\n",
       "\t<tr><td>9c26fefe-1876-41d5-ae27-a665ed72643f           </td><td>9c26fefe-1876-41d5-ae27-a665ed72643f.vcf.gz    </td><td>fb3358bdea79e85074b9ab99845a790a               </td><td> 198682                                        </td><td>live                                           </td></tr>\n",
       "\t<tr><td>2c9c09c4-4849-4333-b1ad-53699fde6072           </td><td>2c9c09c4-4849-4333-b1ad-53699fde6072.vep.vcf.gz</td><td>5c289ee2e699d1b856c31735e1134a43               </td><td> 181009                                        </td><td>live                                           </td></tr>\n",
       "\t<tr><td>0f7e2d94-046d-437c-aa42-12b79e4bf80a           </td><td>0f7e2d94-046d-437c-aa42-12b79e4bf80a.vcf.gz    </td><td>8bbec722d7fbe95cbdfdb880de4a4b8d               </td><td> 295326                                        </td><td>live                                           </td></tr>\n",
       "</tbody>\n",
       "</table>\n"
      ],
      "text/latex": [
       "\\begin{tabular}{r|lllll}\n",
       " id & filename & md5 & size & state\\\\\n",
       "\\hline\n",
       "\t 88be35fc-3a1d-47ad-93b4-90d786341be7            & 88be35fc-3a1d-47ad-93b4-90d786341be7.vep.vcf.gz & d07cf83738686ae3053fe72e95c409e1                &  165208                                         & live                                           \\\\\n",
       "\t ad3dd7e9-808a-4e4b-8d43-dc3de68c8c5c            & ad3dd7e9-808a-4e4b-8d43-dc3de68c8c5c.vep.vcf.gz & 35f2de2ef0304fe3ee8bb1229eb4c3b8                & 1069229                                         & live                                           \\\\\n",
       "\t 0b1c205c-c227-43dd-a308-1a46b4f733df            & 0b1c205c-c227-43dd-a308-1a46b4f733df.vep.vcf.gz & 9af292e502a6419905c3f25763e36b9c                &  110968                                         & live                                           \\\\\n",
       "\t 9c26fefe-1876-41d5-ae27-a665ed72643f            & 9c26fefe-1876-41d5-ae27-a665ed72643f.vcf.gz     & fb3358bdea79e85074b9ab99845a790a                &  198682                                         & live                                           \\\\\n",
       "\t 2c9c09c4-4849-4333-b1ad-53699fde6072            & 2c9c09c4-4849-4333-b1ad-53699fde6072.vep.vcf.gz & 5c289ee2e699d1b856c31735e1134a43                &  181009                                         & live                                           \\\\\n",
       "\t 0f7e2d94-046d-437c-aa42-12b79e4bf80a            & 0f7e2d94-046d-437c-aa42-12b79e4bf80a.vcf.gz     & 8bbec722d7fbe95cbdfdb880de4a4b8d                &  295326                                         & live                                           \\\\\n",
       "\\end{tabular}\n"
      ],
      "text/markdown": [
       "\n",
       "id | filename | md5 | size | state | \n",
       "|---|---|---|---|---|---|\n",
       "| 88be35fc-3a1d-47ad-93b4-90d786341be7            | 88be35fc-3a1d-47ad-93b4-90d786341be7.vep.vcf.gz | d07cf83738686ae3053fe72e95c409e1                |  165208                                         | live                                            | \n",
       "| ad3dd7e9-808a-4e4b-8d43-dc3de68c8c5c            | ad3dd7e9-808a-4e4b-8d43-dc3de68c8c5c.vep.vcf.gz | 35f2de2ef0304fe3ee8bb1229eb4c3b8                | 1069229                                         | live                                            | \n",
       "| 0b1c205c-c227-43dd-a308-1a46b4f733df            | 0b1c205c-c227-43dd-a308-1a46b4f733df.vep.vcf.gz | 9af292e502a6419905c3f25763e36b9c                |  110968                                         | live                                            | \n",
       "| 9c26fefe-1876-41d5-ae27-a665ed72643f            | 9c26fefe-1876-41d5-ae27-a665ed72643f.vcf.gz     | fb3358bdea79e85074b9ab99845a790a                |  198682                                         | live                                            | \n",
       "| 2c9c09c4-4849-4333-b1ad-53699fde6072            | 2c9c09c4-4849-4333-b1ad-53699fde6072.vep.vcf.gz | 5c289ee2e699d1b856c31735e1134a43                |  181009                                         | live                                            | \n",
       "| 0f7e2d94-046d-437c-aa42-12b79e4bf80a            | 0f7e2d94-046d-437c-aa42-12b79e4bf80a.vcf.gz     | 8bbec722d7fbe95cbdfdb880de4a4b8d                |  295326                                         | live                                            | \n",
       "\n",
       "\n"
      ],
      "text/plain": [
       "  id                                  \n",
       "1 88be35fc-3a1d-47ad-93b4-90d786341be7\n",
       "2 ad3dd7e9-808a-4e4b-8d43-dc3de68c8c5c\n",
       "3 0b1c205c-c227-43dd-a308-1a46b4f733df\n",
       "4 9c26fefe-1876-41d5-ae27-a665ed72643f\n",
       "5 2c9c09c4-4849-4333-b1ad-53699fde6072\n",
       "6 0f7e2d94-046d-437c-aa42-12b79e4bf80a\n",
       "  filename                                       \n",
       "1 88be35fc-3a1d-47ad-93b4-90d786341be7.vep.vcf.gz\n",
       "2 ad3dd7e9-808a-4e4b-8d43-dc3de68c8c5c.vep.vcf.gz\n",
       "3 0b1c205c-c227-43dd-a308-1a46b4f733df.vep.vcf.gz\n",
       "4 9c26fefe-1876-41d5-ae27-a665ed72643f.vcf.gz    \n",
       "5 2c9c09c4-4849-4333-b1ad-53699fde6072.vep.vcf.gz\n",
       "6 0f7e2d94-046d-437c-aa42-12b79e4bf80a.vcf.gz    \n",
       "  md5                              size    state\n",
       "1 d07cf83738686ae3053fe72e95c409e1  165208 live \n",
       "2 35f2de2ef0304fe3ee8bb1229eb4c3b8 1069229 live \n",
       "3 9af292e502a6419905c3f25763e36b9c  110968 live \n",
       "4 fb3358bdea79e85074b9ab99845a790a  198682 live \n",
       "5 5c289ee2e699d1b856c31735e1134a43  181009 live \n",
       "6 8bbec722d7fbe95cbdfdb880de4a4b8d  295326 live "
      ]
     },
     "metadata": {},
     "output_type": "display_data"
    }
   ],
   "source": [
    "# issues with biospecimen and clinical uuid - skip for now\n",
    "total_df <- rbind(snv_df, cnv_df, methyl_df, raw_df, transcriptome_df)\n",
    "head(total_df)"
   ]
  },
  {
   "cell_type": "code",
   "execution_count": null,
   "metadata": {
    "collapsed": true
   },
   "outputs": [],
   "source": []
  },
  {
   "cell_type": "code",
   "execution_count": 24,
   "metadata": {
    "collapsed": false
   },
   "outputs": [],
   "source": [
    "step = 10000\n",
    "indices <- seq(1, nrow(total_df), by=step)"
   ]
  },
  {
   "cell_type": "code",
   "execution_count": 25,
   "metadata": {
    "collapsed": false
   },
   "outputs": [
    {
     "name": "stdout",
     "output_type": "stream",
     "text": [
      "[1] \"start:  1  end:  10000\"\n",
      "[1] \"start:  10001  end:  20000\"\n",
      "[1] \"start:  20001  end:  30000\"\n",
      "[1] \"start:  30001  end:  40000\"\n",
      "[1] \"start:  40001  end:  50000\"\n",
      "[1] \"start:  50001  end:  60000\"\n",
      "[1] \"start:  60001  end:  70000\"\n",
      "[1] \"start:  70001  end:  80000\"\n",
      "[1] \"start:  80001  end:  90000\"\n",
      "[1] \"start:  90001  end:  1e+05\"\n",
      "[1] \"start:  100001  end:  110000\"\n",
      "[1] \"start:  110001  end:  120000\"\n",
      "[1] \"start:  120001  end:  130000\"\n",
      "[1] \"start:  130001  end:  140000\"\n",
      "[1] \"start:  140001  end:  150000\"\n",
      "[1] \"start:  150001  end:  160000\"\n",
      "[1] \"start:  160001  end:  170000\"\n",
      "[1] \"start:  170001  end:  180000\"\n",
      "[1] \"start:  180001  end:  190000\"\n",
      "[1] \"start:  190001  end:  2e+05\"\n",
      "[1] \"start:  200001  end:  210000\"\n",
      "[1] \"start:  210001  end:  220000\"\n",
      "[1] \"start:  220001  end:  230000\"\n",
      "[1] \"start:  230001  end:  240000\"\n",
      "[1] \"start:  240001  end:  250000\"\n",
      "[1] \"start:  250001  end:  260000\"\n",
      "[1] \"start:  260001  end:  270000\"\n",
      "[1] \"start:  270001  end:  280000\"\n",
      "[1] \"start:  280001  end:  288277\"\n"
     ]
    }
   ],
   "source": [
    "# TCGAtranslateID does not seem to be able to handle more than ~10,000 UUIDs at a time\n",
    "for (index in indices) {\n",
    "#     if (index < 19991) {\n",
    "#         next\n",
    "#     }\n",
    "    start <- index\n",
    "    end <- index + step - 1\n",
    "    \n",
    "    if (index == tail(indices, 1)) {\n",
    "        end <- nrow(total_df)\n",
    "    }\n",
    "    print(paste(\"start: \", start, \" end: \", end))\n",
    "    temp_df <- total_df[start:end,]\n",
    "    temp_uuids <- temp_df[,'id']\n",
    "    temp_barcode_df <- TCGAtranslateID(temp_uuids)\n",
    "    if (index == 1) {\n",
    "        total_output <- temp_barcode_df\n",
    "    } \n",
    "    else {\n",
    "        total_output <- rbind(total_output, temp_barcode_df)\n",
    "    }\n",
    "}"
   ]
  },
  {
   "cell_type": "code",
   "execution_count": 28,
   "metadata": {
    "collapsed": false,
    "scrolled": false
   },
   "outputs": [
    {
     "data": {
      "text/html": [
       "<table>\n",
       "<thead><tr><th scope=col>file_id</th><th scope=col>file_name</th><th scope=col>barcode</th><th scope=col>sample_barcode</th><th scope=col>disease</th><th scope=col>type</th><th scope=col>data_format</th></tr></thead>\n",
       "<tbody>\n",
       "\t<tr><td>2c9c09c4-4849-4333-b1ad-53699fde6072           </td><td>2c9c09c4-4849-4333-b1ad-53699fde6072.vep.vcf.gz</td><td>TARGET-30-PARMLF                               </td><td>NA                                             </td><td>TARGET-NBL                                     </td><td>annotated_somatic_mutation                     </td><td>VCF                                            </td></tr>\n",
       "\t<tr><td>3513cd49-6a46-4265-ac5e-029b0fe219e1           </td><td>3513cd49-6a46-4265-ac5e-029b0fe219e1.vcf.gz    </td><td>TARGET-30-PASFGG                               </td><td>NA                                             </td><td>TARGET-NBL                                     </td><td>simple_somatic_mutation                        </td><td>VCF                                            </td></tr>\n",
       "\t<tr><td>c6d73185-de17-4184-bb19-f94a15d765c2           </td><td>c6d73185-de17-4184-bb19-f94a15d765c2.vep.vcf.gz</td><td>TARGET-30-PALPGG                               </td><td>NA                                             </td><td>TARGET-NBL                                     </td><td>annotated_somatic_mutation                     </td><td>VCF                                            </td></tr>\n",
       "\t<tr><td>83a84c6c-8f39-4837-b583-8ec5696be5e4           </td><td>83a84c6c-8f39-4837-b583-8ec5696be5e4.vep.vcf.gz</td><td>TARGET-30-PARSBI                               </td><td>NA                                             </td><td>TARGET-NBL                                     </td><td>annotated_somatic_mutation                     </td><td>VCF                                            </td></tr>\n",
       "\t<tr><td>d8a2f831-eec1-4888-94be-738bb6b914f4           </td><td>d8a2f831-eec1-4888-94be-738bb6b914f4.vep.vcf.gz</td><td>TARGET-30-PARJMX                               </td><td>NA                                             </td><td>TARGET-NBL                                     </td><td>annotated_somatic_mutation                     </td><td>VCF                                            </td></tr>\n",
       "\t<tr><td>78398f5d-c956-43ba-a5d6-b90b096323af           </td><td>78398f5d-c956-43ba-a5d6-b90b096323af.vep.vcf.gz</td><td>TARGET-30-PARDCK                               </td><td>NA                                             </td><td>TARGET-NBL                                     </td><td>annotated_somatic_mutation                     </td><td>VCF                                            </td></tr>\n",
       "\t<tr><td>b00e2179-07c9-46ef-ba03-f349e10dc72d           </td><td>b00e2179-07c9-46ef-ba03-f349e10dc72d.vep.vcf.gz</td><td>TARGET-30-PASTKC                               </td><td>NA                                             </td><td>TARGET-NBL                                     </td><td>annotated_somatic_mutation                     </td><td>VCF                                            </td></tr>\n",
       "\t<tr><td>27db172d-0969-4910-80f8-88f72d374f9a           </td><td>27db172d-0969-4910-80f8-88f72d374f9a.vcf.gz    </td><td>TARGET-30-PAPNEP                               </td><td>NA                                             </td><td>TARGET-NBL                                     </td><td>simple_somatic_mutation                        </td><td>VCF                                            </td></tr>\n",
       "\t<tr><td>0b459668-f0c1-47af-af32-9cf61334a9a0           </td><td>0b459668-f0c1-47af-af32-9cf61334a9a0.vcf.gz    </td><td>TARGET-30-PANRHJ                               </td><td>NA                                             </td><td>TARGET-NBL                                     </td><td>simple_somatic_mutation                        </td><td>VCF                                            </td></tr>\n",
       "\t<tr><td>1d93b566-a62f-4d16-9180-cc66f17d3c75           </td><td>1d93b566-a62f-4d16-9180-cc66f17d3c75.vcf       </td><td>TARGET-30-PASNEF                               </td><td>NA                                             </td><td>TARGET-NBL                                     </td><td>simple_somatic_mutation                        </td><td>VCF                                            </td></tr>\n",
       "\t<tr><td>c53e3399-d1b6-422e-bbfc-fc35b8e1dcba           </td><td>c53e3399-d1b6-422e-bbfc-fc35b8e1dcba.vep.vcf.gz</td><td>AD8179                                         </td><td>AD8179_sample                                  </td><td>FM-AD                                          </td><td>annotated_somatic_mutation                     </td><td>VCF                                            </td></tr>\n",
       "\t<tr><td>3f64771b-cd33-442c-88fb-f701daee53b4           </td><td>3f64771b-cd33-442c-88fb-f701daee53b4.vep.vcf.gz</td><td>AD7171                                         </td><td>AD7171_sample                                  </td><td>FM-AD                                          </td><td>annotated_somatic_mutation                     </td><td>VCF                                            </td></tr>\n",
       "\t<tr><td>4808dad8-42f5-484c-992c-a25a36576068           </td><td>4808dad8-42f5-484c-992c-a25a36576068.vcf.gz    </td><td>AD3146                                         </td><td>AD3146_sample                                  </td><td>FM-AD                                          </td><td>simple_somatic_mutation                        </td><td>VCF                                            </td></tr>\n",
       "\t<tr><td>b2b48e39-effb-4fb0-a3b9-306ca71faacd           </td><td>b2b48e39-effb-4fb0-a3b9-306ca71faacd.vep.vcf.gz</td><td>AD15069                                        </td><td>AD15069_sample                                 </td><td>FM-AD                                          </td><td>annotated_somatic_mutation                     </td><td>VCF                                            </td></tr>\n",
       "\t<tr><td>4118fb98-51bd-426b-ba60-679edcc32be0           </td><td>4118fb98-51bd-426b-ba60-679edcc32be0.vep.vcf.gz</td><td>AD10545                                        </td><td>AD10545_sample                                 </td><td>FM-AD                                          </td><td>annotated_somatic_mutation                     </td><td>VCF                                            </td></tr>\n",
       "\t<tr><td>ee8dc856-b460-4685-8979-a20e2b27428b           </td><td>ee8dc856-b460-4685-8979-a20e2b27428b.vcf.gz    </td><td>AD15518                                        </td><td>AD15518_sample                                 </td><td>FM-AD                                          </td><td>simple_somatic_mutation                        </td><td>VCF                                            </td></tr>\n",
       "\t<tr><td>4c3528d3-a5f8-442d-9026-db438e593784           </td><td>4c3528d3-a5f8-442d-9026-db438e593784.vep.vcf.gz</td><td>AD14300                                        </td><td>AD14300_sample                                 </td><td>FM-AD                                          </td><td>annotated_somatic_mutation                     </td><td>VCF                                            </td></tr>\n",
       "\t<tr><td>c32ad649-ee9d-4b74-8343-0e9c2ff9318d           </td><td>c32ad649-ee9d-4b74-8343-0e9c2ff9318d.vcf.gz    </td><td>AD17085                                        </td><td>AD17085_sample                                 </td><td>FM-AD                                          </td><td>simple_somatic_mutation                        </td><td>VCF                                            </td></tr>\n",
       "\t<tr><td>0cc0a530-fc20-435f-a81d-3e40919cc5dd           </td><td>0cc0a530-fc20-435f-a81d-3e40919cc5dd.vep.vcf.gz</td><td>AD9149                                         </td><td>AD9149_sample                                  </td><td>FM-AD                                          </td><td>annotated_somatic_mutation                     </td><td>VCF                                            </td></tr>\n",
       "\t<tr><td>36ab04cd-e8ef-4c08-bc0a-5519efcf1c9b           </td><td>36ab04cd-e8ef-4c08-bc0a-5519efcf1c9b.vcf.gz    </td><td>AD4450                                         </td><td>AD4450_sample                                  </td><td>FM-AD                                          </td><td>simple_somatic_mutation                        </td><td>VCF                                            </td></tr>\n",
       "</tbody>\n",
       "</table>\n"
      ],
      "text/latex": [
       "\\begin{tabular}{r|lllllll}\n",
       " file\\_id & file\\_name & barcode & sample\\_barcode & disease & type & data\\_format\\\\\n",
       "\\hline\n",
       "\t 2c9c09c4-4849-4333-b1ad-53699fde6072            & 2c9c09c4-4849-4333-b1ad-53699fde6072.vep.vcf.gz & TARGET-30-PARMLF                                & NA                                              & TARGET-NBL                                      & annotated\\_somatic\\_mutation                  & VCF                                            \\\\\n",
       "\t 3513cd49-6a46-4265-ac5e-029b0fe219e1            & 3513cd49-6a46-4265-ac5e-029b0fe219e1.vcf.gz     & TARGET-30-PASFGG                                & NA                                              & TARGET-NBL                                      & simple\\_somatic\\_mutation                     & VCF                                            \\\\\n",
       "\t c6d73185-de17-4184-bb19-f94a15d765c2            & c6d73185-de17-4184-bb19-f94a15d765c2.vep.vcf.gz & TARGET-30-PALPGG                                & NA                                              & TARGET-NBL                                      & annotated\\_somatic\\_mutation                  & VCF                                            \\\\\n",
       "\t 83a84c6c-8f39-4837-b583-8ec5696be5e4            & 83a84c6c-8f39-4837-b583-8ec5696be5e4.vep.vcf.gz & TARGET-30-PARSBI                                & NA                                              & TARGET-NBL                                      & annotated\\_somatic\\_mutation                  & VCF                                            \\\\\n",
       "\t d8a2f831-eec1-4888-94be-738bb6b914f4            & d8a2f831-eec1-4888-94be-738bb6b914f4.vep.vcf.gz & TARGET-30-PARJMX                                & NA                                              & TARGET-NBL                                      & annotated\\_somatic\\_mutation                  & VCF                                            \\\\\n",
       "\t 78398f5d-c956-43ba-a5d6-b90b096323af            & 78398f5d-c956-43ba-a5d6-b90b096323af.vep.vcf.gz & TARGET-30-PARDCK                                & NA                                              & TARGET-NBL                                      & annotated\\_somatic\\_mutation                  & VCF                                            \\\\\n",
       "\t b00e2179-07c9-46ef-ba03-f349e10dc72d            & b00e2179-07c9-46ef-ba03-f349e10dc72d.vep.vcf.gz & TARGET-30-PASTKC                                & NA                                              & TARGET-NBL                                      & annotated\\_somatic\\_mutation                  & VCF                                            \\\\\n",
       "\t 27db172d-0969-4910-80f8-88f72d374f9a            & 27db172d-0969-4910-80f8-88f72d374f9a.vcf.gz     & TARGET-30-PAPNEP                                & NA                                              & TARGET-NBL                                      & simple\\_somatic\\_mutation                     & VCF                                            \\\\\n",
       "\t 0b459668-f0c1-47af-af32-9cf61334a9a0            & 0b459668-f0c1-47af-af32-9cf61334a9a0.vcf.gz     & TARGET-30-PANRHJ                                & NA                                              & TARGET-NBL                                      & simple\\_somatic\\_mutation                     & VCF                                            \\\\\n",
       "\t 1d93b566-a62f-4d16-9180-cc66f17d3c75            & 1d93b566-a62f-4d16-9180-cc66f17d3c75.vcf        & TARGET-30-PASNEF                                & NA                                              & TARGET-NBL                                      & simple\\_somatic\\_mutation                     & VCF                                            \\\\\n",
       "\t c53e3399-d1b6-422e-bbfc-fc35b8e1dcba            & c53e3399-d1b6-422e-bbfc-fc35b8e1dcba.vep.vcf.gz & AD8179                                          & AD8179\\_sample                                 & FM-AD                                           & annotated\\_somatic\\_mutation                  & VCF                                            \\\\\n",
       "\t 3f64771b-cd33-442c-88fb-f701daee53b4            & 3f64771b-cd33-442c-88fb-f701daee53b4.vep.vcf.gz & AD7171                                          & AD7171\\_sample                                 & FM-AD                                           & annotated\\_somatic\\_mutation                  & VCF                                            \\\\\n",
       "\t 4808dad8-42f5-484c-992c-a25a36576068            & 4808dad8-42f5-484c-992c-a25a36576068.vcf.gz     & AD3146                                          & AD3146\\_sample                                 & FM-AD                                           & simple\\_somatic\\_mutation                     & VCF                                            \\\\\n",
       "\t b2b48e39-effb-4fb0-a3b9-306ca71faacd            & b2b48e39-effb-4fb0-a3b9-306ca71faacd.vep.vcf.gz & AD15069                                         & AD15069\\_sample                                & FM-AD                                           & annotated\\_somatic\\_mutation                  & VCF                                            \\\\\n",
       "\t 4118fb98-51bd-426b-ba60-679edcc32be0            & 4118fb98-51bd-426b-ba60-679edcc32be0.vep.vcf.gz & AD10545                                         & AD10545\\_sample                                & FM-AD                                           & annotated\\_somatic\\_mutation                  & VCF                                            \\\\\n",
       "\t ee8dc856-b460-4685-8979-a20e2b27428b            & ee8dc856-b460-4685-8979-a20e2b27428b.vcf.gz     & AD15518                                         & AD15518\\_sample                                & FM-AD                                           & simple\\_somatic\\_mutation                     & VCF                                            \\\\\n",
       "\t 4c3528d3-a5f8-442d-9026-db438e593784            & 4c3528d3-a5f8-442d-9026-db438e593784.vep.vcf.gz & AD14300                                         & AD14300\\_sample                                & FM-AD                                           & annotated\\_somatic\\_mutation                  & VCF                                            \\\\\n",
       "\t c32ad649-ee9d-4b74-8343-0e9c2ff9318d            & c32ad649-ee9d-4b74-8343-0e9c2ff9318d.vcf.gz     & AD17085                                         & AD17085\\_sample                                & FM-AD                                           & simple\\_somatic\\_mutation                     & VCF                                            \\\\\n",
       "\t 0cc0a530-fc20-435f-a81d-3e40919cc5dd            & 0cc0a530-fc20-435f-a81d-3e40919cc5dd.vep.vcf.gz & AD9149                                          & AD9149\\_sample                                 & FM-AD                                           & annotated\\_somatic\\_mutation                  & VCF                                            \\\\\n",
       "\t 36ab04cd-e8ef-4c08-bc0a-5519efcf1c9b            & 36ab04cd-e8ef-4c08-bc0a-5519efcf1c9b.vcf.gz     & AD4450                                          & AD4450\\_sample                                 & FM-AD                                           & simple\\_somatic\\_mutation                     & VCF                                            \\\\\n",
       "\\end{tabular}\n"
      ],
      "text/markdown": [
       "\n",
       "file_id | file_name | barcode | sample_barcode | disease | type | data_format | \n",
       "|---|---|---|---|---|---|---|---|---|---|---|---|---|---|---|---|---|---|---|---|\n",
       "| 2c9c09c4-4849-4333-b1ad-53699fde6072            | 2c9c09c4-4849-4333-b1ad-53699fde6072.vep.vcf.gz | TARGET-30-PARMLF                                | NA                                              | TARGET-NBL                                      | annotated_somatic_mutation                      | VCF                                             | \n",
       "| 3513cd49-6a46-4265-ac5e-029b0fe219e1            | 3513cd49-6a46-4265-ac5e-029b0fe219e1.vcf.gz     | TARGET-30-PASFGG                                | NA                                              | TARGET-NBL                                      | simple_somatic_mutation                         | VCF                                             | \n",
       "| c6d73185-de17-4184-bb19-f94a15d765c2            | c6d73185-de17-4184-bb19-f94a15d765c2.vep.vcf.gz | TARGET-30-PALPGG                                | NA                                              | TARGET-NBL                                      | annotated_somatic_mutation                      | VCF                                             | \n",
       "| 83a84c6c-8f39-4837-b583-8ec5696be5e4            | 83a84c6c-8f39-4837-b583-8ec5696be5e4.vep.vcf.gz | TARGET-30-PARSBI                                | NA                                              | TARGET-NBL                                      | annotated_somatic_mutation                      | VCF                                             | \n",
       "| d8a2f831-eec1-4888-94be-738bb6b914f4            | d8a2f831-eec1-4888-94be-738bb6b914f4.vep.vcf.gz | TARGET-30-PARJMX                                | NA                                              | TARGET-NBL                                      | annotated_somatic_mutation                      | VCF                                             | \n",
       "| 78398f5d-c956-43ba-a5d6-b90b096323af            | 78398f5d-c956-43ba-a5d6-b90b096323af.vep.vcf.gz | TARGET-30-PARDCK                                | NA                                              | TARGET-NBL                                      | annotated_somatic_mutation                      | VCF                                             | \n",
       "| b00e2179-07c9-46ef-ba03-f349e10dc72d            | b00e2179-07c9-46ef-ba03-f349e10dc72d.vep.vcf.gz | TARGET-30-PASTKC                                | NA                                              | TARGET-NBL                                      | annotated_somatic_mutation                      | VCF                                             | \n",
       "| 27db172d-0969-4910-80f8-88f72d374f9a            | 27db172d-0969-4910-80f8-88f72d374f9a.vcf.gz     | TARGET-30-PAPNEP                                | NA                                              | TARGET-NBL                                      | simple_somatic_mutation                         | VCF                                             | \n",
       "| 0b459668-f0c1-47af-af32-9cf61334a9a0            | 0b459668-f0c1-47af-af32-9cf61334a9a0.vcf.gz     | TARGET-30-PANRHJ                                | NA                                              | TARGET-NBL                                      | simple_somatic_mutation                         | VCF                                             | \n",
       "| 1d93b566-a62f-4d16-9180-cc66f17d3c75            | 1d93b566-a62f-4d16-9180-cc66f17d3c75.vcf        | TARGET-30-PASNEF                                | NA                                              | TARGET-NBL                                      | simple_somatic_mutation                         | VCF                                             | \n",
       "| c53e3399-d1b6-422e-bbfc-fc35b8e1dcba            | c53e3399-d1b6-422e-bbfc-fc35b8e1dcba.vep.vcf.gz | AD8179                                          | AD8179_sample                                   | FM-AD                                           | annotated_somatic_mutation                      | VCF                                             | \n",
       "| 3f64771b-cd33-442c-88fb-f701daee53b4            | 3f64771b-cd33-442c-88fb-f701daee53b4.vep.vcf.gz | AD7171                                          | AD7171_sample                                   | FM-AD                                           | annotated_somatic_mutation                      | VCF                                             | \n",
       "| 4808dad8-42f5-484c-992c-a25a36576068            | 4808dad8-42f5-484c-992c-a25a36576068.vcf.gz     | AD3146                                          | AD3146_sample                                   | FM-AD                                           | simple_somatic_mutation                         | VCF                                             | \n",
       "| b2b48e39-effb-4fb0-a3b9-306ca71faacd            | b2b48e39-effb-4fb0-a3b9-306ca71faacd.vep.vcf.gz | AD15069                                         | AD15069_sample                                  | FM-AD                                           | annotated_somatic_mutation                      | VCF                                             | \n",
       "| 4118fb98-51bd-426b-ba60-679edcc32be0            | 4118fb98-51bd-426b-ba60-679edcc32be0.vep.vcf.gz | AD10545                                         | AD10545_sample                                  | FM-AD                                           | annotated_somatic_mutation                      | VCF                                             | \n",
       "| ee8dc856-b460-4685-8979-a20e2b27428b            | ee8dc856-b460-4685-8979-a20e2b27428b.vcf.gz     | AD15518                                         | AD15518_sample                                  | FM-AD                                           | simple_somatic_mutation                         | VCF                                             | \n",
       "| 4c3528d3-a5f8-442d-9026-db438e593784            | 4c3528d3-a5f8-442d-9026-db438e593784.vep.vcf.gz | AD14300                                         | AD14300_sample                                  | FM-AD                                           | annotated_somatic_mutation                      | VCF                                             | \n",
       "| c32ad649-ee9d-4b74-8343-0e9c2ff9318d            | c32ad649-ee9d-4b74-8343-0e9c2ff9318d.vcf.gz     | AD17085                                         | AD17085_sample                                  | FM-AD                                           | simple_somatic_mutation                         | VCF                                             | \n",
       "| 0cc0a530-fc20-435f-a81d-3e40919cc5dd            | 0cc0a530-fc20-435f-a81d-3e40919cc5dd.vep.vcf.gz | AD9149                                          | AD9149_sample                                   | FM-AD                                           | annotated_somatic_mutation                      | VCF                                             | \n",
       "| 36ab04cd-e8ef-4c08-bc0a-5519efcf1c9b            | 36ab04cd-e8ef-4c08-bc0a-5519efcf1c9b.vcf.gz     | AD4450                                          | AD4450_sample                                   | FM-AD                                           | simple_somatic_mutation                         | VCF                                             | \n",
       "\n",
       "\n"
      ],
      "text/plain": [
       "   file_id                             \n",
       "1  2c9c09c4-4849-4333-b1ad-53699fde6072\n",
       "2  3513cd49-6a46-4265-ac5e-029b0fe219e1\n",
       "3  c6d73185-de17-4184-bb19-f94a15d765c2\n",
       "4  83a84c6c-8f39-4837-b583-8ec5696be5e4\n",
       "5  d8a2f831-eec1-4888-94be-738bb6b914f4\n",
       "6  78398f5d-c956-43ba-a5d6-b90b096323af\n",
       "7  b00e2179-07c9-46ef-ba03-f349e10dc72d\n",
       "8  27db172d-0969-4910-80f8-88f72d374f9a\n",
       "9  0b459668-f0c1-47af-af32-9cf61334a9a0\n",
       "10 1d93b566-a62f-4d16-9180-cc66f17d3c75\n",
       "11 c53e3399-d1b6-422e-bbfc-fc35b8e1dcba\n",
       "12 3f64771b-cd33-442c-88fb-f701daee53b4\n",
       "13 4808dad8-42f5-484c-992c-a25a36576068\n",
       "14 b2b48e39-effb-4fb0-a3b9-306ca71faacd\n",
       "15 4118fb98-51bd-426b-ba60-679edcc32be0\n",
       "16 ee8dc856-b460-4685-8979-a20e2b27428b\n",
       "17 4c3528d3-a5f8-442d-9026-db438e593784\n",
       "18 c32ad649-ee9d-4b74-8343-0e9c2ff9318d\n",
       "19 0cc0a530-fc20-435f-a81d-3e40919cc5dd\n",
       "20 36ab04cd-e8ef-4c08-bc0a-5519efcf1c9b\n",
       "   file_name                                       barcode         \n",
       "1  2c9c09c4-4849-4333-b1ad-53699fde6072.vep.vcf.gz TARGET-30-PARMLF\n",
       "2  3513cd49-6a46-4265-ac5e-029b0fe219e1.vcf.gz     TARGET-30-PASFGG\n",
       "3  c6d73185-de17-4184-bb19-f94a15d765c2.vep.vcf.gz TARGET-30-PALPGG\n",
       "4  83a84c6c-8f39-4837-b583-8ec5696be5e4.vep.vcf.gz TARGET-30-PARSBI\n",
       "5  d8a2f831-eec1-4888-94be-738bb6b914f4.vep.vcf.gz TARGET-30-PARJMX\n",
       "6  78398f5d-c956-43ba-a5d6-b90b096323af.vep.vcf.gz TARGET-30-PARDCK\n",
       "7  b00e2179-07c9-46ef-ba03-f349e10dc72d.vep.vcf.gz TARGET-30-PASTKC\n",
       "8  27db172d-0969-4910-80f8-88f72d374f9a.vcf.gz     TARGET-30-PAPNEP\n",
       "9  0b459668-f0c1-47af-af32-9cf61334a9a0.vcf.gz     TARGET-30-PANRHJ\n",
       "10 1d93b566-a62f-4d16-9180-cc66f17d3c75.vcf        TARGET-30-PASNEF\n",
       "11 c53e3399-d1b6-422e-bbfc-fc35b8e1dcba.vep.vcf.gz AD8179          \n",
       "12 3f64771b-cd33-442c-88fb-f701daee53b4.vep.vcf.gz AD7171          \n",
       "13 4808dad8-42f5-484c-992c-a25a36576068.vcf.gz     AD3146          \n",
       "14 b2b48e39-effb-4fb0-a3b9-306ca71faacd.vep.vcf.gz AD15069         \n",
       "15 4118fb98-51bd-426b-ba60-679edcc32be0.vep.vcf.gz AD10545         \n",
       "16 ee8dc856-b460-4685-8979-a20e2b27428b.vcf.gz     AD15518         \n",
       "17 4c3528d3-a5f8-442d-9026-db438e593784.vep.vcf.gz AD14300         \n",
       "18 c32ad649-ee9d-4b74-8343-0e9c2ff9318d.vcf.gz     AD17085         \n",
       "19 0cc0a530-fc20-435f-a81d-3e40919cc5dd.vep.vcf.gz AD9149          \n",
       "20 36ab04cd-e8ef-4c08-bc0a-5519efcf1c9b.vcf.gz     AD4450          \n",
       "   sample_barcode disease    type                       data_format\n",
       "1  NA             TARGET-NBL annotated_somatic_mutation VCF        \n",
       "2  NA             TARGET-NBL simple_somatic_mutation    VCF        \n",
       "3  NA             TARGET-NBL annotated_somatic_mutation VCF        \n",
       "4  NA             TARGET-NBL annotated_somatic_mutation VCF        \n",
       "5  NA             TARGET-NBL annotated_somatic_mutation VCF        \n",
       "6  NA             TARGET-NBL annotated_somatic_mutation VCF        \n",
       "7  NA             TARGET-NBL annotated_somatic_mutation VCF        \n",
       "8  NA             TARGET-NBL simple_somatic_mutation    VCF        \n",
       "9  NA             TARGET-NBL simple_somatic_mutation    VCF        \n",
       "10 NA             TARGET-NBL simple_somatic_mutation    VCF        \n",
       "11 AD8179_sample  FM-AD      annotated_somatic_mutation VCF        \n",
       "12 AD7171_sample  FM-AD      annotated_somatic_mutation VCF        \n",
       "13 AD3146_sample  FM-AD      simple_somatic_mutation    VCF        \n",
       "14 AD15069_sample FM-AD      annotated_somatic_mutation VCF        \n",
       "15 AD10545_sample FM-AD      annotated_somatic_mutation VCF        \n",
       "16 AD15518_sample FM-AD      simple_somatic_mutation    VCF        \n",
       "17 AD14300_sample FM-AD      annotated_somatic_mutation VCF        \n",
       "18 AD17085_sample FM-AD      simple_somatic_mutation    VCF        \n",
       "19 AD9149_sample  FM-AD      annotated_somatic_mutation VCF        \n",
       "20 AD4450_sample  FM-AD      simple_somatic_mutation    VCF        "
      ]
     },
     "metadata": {},
     "output_type": "display_data"
    }
   ],
   "source": [
    "head(total_output, 20)"
   ]
  },
  {
   "cell_type": "code",
   "execution_count": 27,
   "metadata": {
    "collapsed": false
   },
   "outputs": [],
   "source": [
    "write.table(total_output, file='~/GDC_barcodes/uuid_barcode_map.txt', quote=FALSE, sep='\\t', row.names=FALSE)"
   ]
  },
  {
   "cell_type": "code",
   "execution_count": null,
   "metadata": {
    "collapsed": true
   },
   "outputs": [],
   "source": []
  },
  {
   "cell_type": "code",
   "execution_count": null,
   "metadata": {
    "collapsed": true
   },
   "outputs": [],
   "source": []
  }
 ],
 "metadata": {
  "kernelspec": {
   "display_name": "R 3.4",
   "language": "R",
   "name": "ir34"
  },
  "language_info": {
   "codemirror_mode": "r",
   "file_extension": ".r",
   "mimetype": "text/x-r-source",
   "name": "R",
   "pygments_lexer": "r",
   "version": "3.4.3"
  }
 },
 "nbformat": 4,
 "nbformat_minor": 0
}
